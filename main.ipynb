{
 "cells": [
  {
   "cell_type": "code",
   "execution_count": null,
   "metadata": {},
   "outputs": [],
   "source": [
    "from tqdm.notebook import tqdm\n",
    "from concurrent.futures import ThreadPoolExecutor\n",
    "from db.docs import DocumentManager\n",
    "from db.db_instance import DBClient\n",
    "import json\n",
    "\n",
    "client = DBClient()\n",
    "db = DocumentManager()\n",
    "\n",
    "# Data to process\n",
    "with open('./data/step1/list.json', 'r') as f:\n",
    "    list = json.load(f)\n",
    "\n",
    "error_items = []\n",
    "\n",
    "def add_to_db(item, main_pbar):\n",
    "    try:\n",
    "        db_obj = {\n",
    "            \"submitter\": item['submitter'],\n",
    "            \"substantive_submission\": item['step_1']['substantive_submission'],\n",
    "            \"group\": item['group'],\n",
    "            \"support\": item['step_1']['support']['support'] if 'support' in item['step_1'] else None,\n",
    "            \"support_evidence\": item['step_1']['support']['evidence'] if 'support' in item['step_1'] else None,\n",
    "            \"motivations\": item['step_1']['motivations'] if 'motivations' in item['step_1'] else None,\n",
    "            \"regulation_type\": item['step_1']['regulation']['regulation_type'] if 'regulation' in item['step_1'] and item['step_1']['regulation'] else None,\n",
    "            \"regulation_type_evidence\": item['step_1']['regulation']['evidence'] if 'regulation' in item['step_1'] and item['step_1']['regulation'] else None,\n",
    "            \"regulator_trust\": item['step_1']['regulator_trust']['regulator_trust'] if 'regulator_trust' in item['step_1'] and item['step_1']['regulator_trust'] else None,\n",
    "            \"regulator_trust_evidence\": item['step_1']['regulator_trust']['evidence'] if 'regulator_trust' in item['step_1'] and item['step_1']['regulator_trust'] else None,\n",
    "            \"definitions\": item['step_1']['definitions'] if 'definitions' in item['step_1'] and len(item['step_1']['definitions']) > 0 else None,\n",
    "            \"step_2\": json.dumps(item['step_2']) if 'step_2' in item else None,\n",
    "            \"metadata\": {k: v for k, v in item[\"metadata\"].items() if v is not None},\n",
    "            \"uniqueId\": item[\"uniqueId\"]\n",
    "        }    \n",
    "        db.new_doc(db_obj)\n",
    "        main_pbar.update(1)\n",
    "        return\n",
    "    except Exception as e:\n",
    "        print(f\"Error occurred: {str(e)}\")\n",
    "        error_items.append(item)\n",
    "        print(item)\n",
    "        return\n",
    "\n",
    "with tqdm(total=len(list[\"data\"]), desc=\"Overall Progress\") as main_pbar:\n",
    "    with ThreadPoolExecutor(max_workers=20) as executor:\n",
    "        futures = [executor.submit(add_to_db, item, main_pbar) for item in list[\"data\"]]\n",
    "        for future in futures:\n",
    "            future.result()\n",
    "\n",
    "with open('errors.json', 'w') as f:\n",
    "    json.dump(error_items, f)"
   ]
  }
 ],
 "metadata": {
  "kernelspec": {
   "display_name": ".venv",
   "language": "python",
   "name": "python3"
  },
  "language_info": {
   "codemirror_mode": {
    "name": "ipython",
    "version": 3
   },
   "file_extension": ".py",
   "mimetype": "text/x-python",
   "name": "python",
   "nbconvert_exporter": "python",
   "pygments_lexer": "ipython3",
   "version": "3.12.3"
  }
 },
 "nbformat": 4,
 "nbformat_minor": 2
}
