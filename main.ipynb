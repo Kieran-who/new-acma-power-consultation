{
 "cells": [
  {
   "cell_type": "code",
   "execution_count": null,
   "metadata": {},
   "outputs": [],
   "source": [
    "from tqdm.notebook import tqdm\n",
    "from db.docs import DocumentManager\n",
    "from db.db_instance import DBClient\n",
    "import json\n",
    "\n",
    "client = DBClient()\n",
    "db = DocumentManager()\n",
    "\n",
    "# Data to process\n",
    "with open('./data/step1/list.json', 'r') as f:\n",
    "    list = json.load(f)\n",
    "\n",
    "\n",
    "for item in tqdm(list[\"data\"]):\n",
    "    db_obj = {\n",
    "        \"submitter\": item['submitter'],\n",
    "        \"substantive_submission\": item['step_1']['substantive_submission'],\n",
    "        \"group\": item['group'],\n",
    "        \"support\": item['step_1']['support']['support'] if 'support' in item['step_1'] else None,\n",
    "        \"support_evidence\": item['step_1']['support']['evidence'] if 'support' in item['step_1'] else None,\n",
    "        \"motivations\": item['step_1']['motivations'] if 'motivations' in item['step_1'] else None,\n",
    "        \"regulation_type\": item['step_1']['regulation']['regulation_type'] if 'regulation' in item['step_1'] else None,\n",
    "        \"regulation_type_evidence\": item['step_1']['regulation']['evidence'] if 'regulation' in item['step_1'] else None,\n",
    "        \"definitions\": item['step_1']['definitions'] if 'definitions' in item['step_1'] else None,\n",
    "        \"step_2\": json.dumps(item['step_2']) if 'step_2' in item else None,\n",
    "        \"metadata\": {k: v for k, v in item[\"metadata\"].items() if v is not None},\n",
    "        \"uniqueId\": item[\"uniqueId\"]\n",
    "    }    \n",
    "    db.new_doc(db_obj)"
   ]
  }
 ],
 "metadata": {
  "kernelspec": {
   "display_name": ".venv",
   "language": "python",
   "name": "python3"
  },
  "language_info": {
   "codemirror_mode": {
    "name": "ipython",
    "version": 3
   },
   "file_extension": ".py",
   "mimetype": "text/x-python",
   "name": "python",
   "nbconvert_exporter": "python",
   "pygments_lexer": "ipython3",
   "version": "3.12.3"
  }
 },
 "nbformat": 4,
 "nbformat_minor": 2
}
