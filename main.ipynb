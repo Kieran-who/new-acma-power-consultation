{
 "cells": [
  {
   "cell_type": "markdown",
   "metadata": {},
   "source": [
    "# Assessing the attitudes towards the proposed new ACMA powers to combat misinformation and disinformation\n"
   ]
  },
  {
   "cell_type": "markdown",
   "metadata": {},
   "source": [
    "## Generate prompt\n",
    "\n",
    "This function takes the submission and submission author (from doc name) as a\n",
    "parameter and returns the formatted prompt to be sent to the LLM\n"
   ]
  },
  {
   "cell_type": "code",
   "execution_count": null,
   "metadata": {},
   "outputs": [],
   "source": [
    "def prompt_formatted(submission_string: str, submission_author: str) -> str:    \n",
    "    # Read the first file and set a string variable\n",
    "    with open('prompt.txt', 'r') as file:\n",
    "        prompt = file.read()\n",
    "        \n",
    "    with open('prompt_issues.md', 'r') as file:\n",
    "        issues = file.read()\n",
    "\n",
    "    with open('prompt_guidance_note.md', 'r') as file:\n",
    "        guidance_note = file.read()\n",
    "\n",
    "    with open('prompt_fact_sheet.md', 'r') as file:\n",
    "        fact_sheet = file.read()\n",
    "\n",
    "    prompt = prompt.replace('|issues|', issues)\n",
    "    prompt = prompt.replace('|guidance_note|', guidance_note)\n",
    "    prompt = prompt.replace('|fact_sheet|', fact_sheet)\n",
    "\n",
    "    prompt += \"\\n\\n***************************************** SUBMISSION START *****************************************\\n\\n\"\n",
    "\n",
    "    prompt += f\"Submission from: {submission_author}\\n\\n\"\n",
    "    \n",
    "    prompt += submission_string\n",
    "\n",
    "    prompt += \"\\n\\n***************************************** SUBMISSION END *****************************************\\n\\n\"\n",
    "\n",
    "    return prompt"
   ]
  },
  {
   "cell_type": "markdown",
   "metadata": {},
   "source": [
    "## Get AI response\n",
    "\n",
    "This function calls the AI model to elicit a response\n"
   ]
  },
  {
   "cell_type": "code",
   "execution_count": null,
   "metadata": {},
   "outputs": [],
   "source": [
    "from az_client import call_ai, get_vector\n",
    "from db.docs import DocumentManager\n",
    "from db.db_instance import DBClient\n",
    "import json\n",
    "import os\n",
    "import shutil\n",
    "\n",
    "client = DBClient()\n",
    "db = DocumentManager()\n",
    "\n",
    "with open('function.json', 'r') as f:\n",
    "    function = json.load(f)\n",
    "\n",
    "def extract_name_from_filename(filename):\n",
    "    parts = filename.split('-')\n",
    "    name_parts = parts[1:]\n",
    "    name = ' '.join(name_parts).split('.')[0]\n",
    "    return name\n",
    "\n",
    "def add_to_json(data, filename):\n",
    "    if not os.path.isfile('./data/processed_data.json'):\n",
    "        with open('./data/processed_data.json', 'w') as f:\n",
    "            json.dump([], f)    \n",
    "    with open('./data/processed_data.json', 'r') as f:\n",
    "        previous_data = json.load(f)\n",
    "        previous_data.append({filename: data})    \n",
    "    with open('./data/processed_data.json', 'w') as f:\n",
    "        json.dump(previous_data, f)\n",
    "\n",
    "def process_files_in_directory(directory, completed_directory):\n",
    "    # Check if the 'completed' directory exists, if not, create it\n",
    "    if not os.path.exists(completed_directory):\n",
    "        os.makedirs(completed_directory)\n",
    "    for filename in os.listdir(directory)[:300]:\n",
    "        filepath = os.path.join(directory, filename)\n",
    "        if os.path.isfile(filepath) and filename.endswith('.md'):\n",
    "            try:\n",
    "                with open(filepath, 'r') as file:\n",
    "                    submission = file.read()\n",
    "                sub_author = extract_name_from_filename(filename)\n",
    "                prompt = prompt_formatted(submission, sub_author)\n",
    "                response = call_ai(prompt, function)\n",
    "                response[\"author\"] = sub_author\n",
    "                response[\"file_name\"] = filename.replace('.md', '')\n",
    "\n",
    "                vector = get_vector(submission)\n",
    "\n",
    "                db.new_doc(response, vector, True)\n",
    "                add_to_json(response, filename.split('-')[0])\n",
    "                # Move the processed file to the 'completed' directory\n",
    "                completed_filepath = os.path.join(completed_directory, filename)\n",
    "                shutil.move(filepath, completed_filepath)\n",
    "            except Exception as e:\n",
    "                print(f\"Error processing file: {filename}\")\n",
    "                print(e)\n",
    "                continue\n",
    "\n",
    "# Example usage\n",
    "directory = './data/files/converted'\n",
    "completed_directory = './data/files/completed'\n",
    "process_files_in_directory(directory, completed_directory)\n"
   ]
  }
 ],
 "metadata": {
  "kernelspec": {
   "display_name": ".venv",
   "language": "python",
   "name": "python3"
  },
  "language_info": {
   "codemirror_mode": {
    "name": "ipython",
    "version": 3
   },
   "file_extension": ".py",
   "mimetype": "text/x-python",
   "name": "python",
   "nbconvert_exporter": "python",
   "pygments_lexer": "ipython3",
   "version": "3.12.3"
  }
 },
 "nbformat": 4,
 "nbformat_minor": 2
}
