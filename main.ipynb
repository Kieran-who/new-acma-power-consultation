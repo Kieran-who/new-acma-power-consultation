{
 "cells": [
  {
   "cell_type": "code",
   "execution_count": null,
   "metadata": {},
   "outputs": [],
   "source": [
    "from tqdm.notebook import tqdm\n",
    "from db.docs import DocumentManager\n",
    "from db.db_instance import DBClient\n",
    "import json\n",
    "import os\n",
    "import shutil\n",
    "from collections import Counter\n",
    "\n",
    "client = DBClient()\n",
    "db = DocumentManager()\n",
    "\n",
    "# Data to process\n",
    "with open('./data/step1/list.json', 'r') as f:\n",
    "    list = json.load(f)\n",
    "\n",
    "    \n",
    "# Initialize the progress bar\n",
    "for item in tqdm(list[\"data\"]):\n",
    "        "
   ]
  }
 ],
 "metadata": {
  "kernelspec": {
   "display_name": ".venv",
   "language": "python",
   "name": "python3"
  },
  "language_info": {
   "name": "python",
   "version": "3.12.3"
  }
 },
 "nbformat": 4,
 "nbformat_minor": 2
}
