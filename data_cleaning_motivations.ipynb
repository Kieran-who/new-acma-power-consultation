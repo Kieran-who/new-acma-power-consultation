{
 "cells": [
  {
   "cell_type": "markdown",
   "metadata": {},
   "source": [
    "### Group similar motivations\n",
    "\n",
    "We are going to regrabbed the motivations from the AI\n"
   ]
  },
  {
   "cell_type": "code",
   "execution_count": null,
   "metadata": {},
   "outputs": [],
   "source": [
    "# CELL 2\n",
    "import os\n",
    "import json\n",
    "from datetime import datetime\n",
    "import pytz\n",
    "\n",
    "promt_file = 'prompt_no_guidance.txt'\n",
    "\n",
    "# Define the prompt for each individual request\n",
    "def prompt_formatted() -> str:    \n",
    "    # Read the first file and set a string variable\n",
    "    with open(promt_file, 'r') as file:\n",
    "        prompt = file.read()\n",
    "        \n",
    "    with open('prompt_issues.md', 'r') as file:\n",
    "        issues = file.read()\n",
    "\n",
    "    with open('prompt_fact_sheet.md', 'r') as file:\n",
    "        fact_sheet = file.read()\n",
    "\n",
    "    prompt = prompt.replace('|issues|', issues)\n",
    "    # prompt = prompt.replace('|guidance_note|', guidance_note)\n",
    "    prompt = prompt.replace('|fact_sheet|', fact_sheet)    \n",
    "\n",
    "    return prompt\n",
    "\n",
    "def get_submission(submission_text: str, submission_author: str):\n",
    "    prompt = \"\"\n",
    "    prompt += \"\\n\\n***************************************** SUBMISSION START *****************************************\\n\\n\"\n",
    "\n",
    "    prompt += f\"Submission from: {submission_author}\\n\\n\"\n",
    "    \n",
    "    prompt += submission_text\n",
    "\n",
    "    prompt += \"\\n\\n***************************************** SUBMISSION END *****************************************\\n\\n\"\n",
    "    return prompt\n",
    "\n",
    "def get_function():\n",
    "    with open('function_motivations.json', 'r') as f:\n",
    "        function = json.load(f)\n",
    "    return function\n",
    "\n",
    "def get_file_path(doc_id, folder_path = './data/files'):    \n",
    "    for file_name in os.listdir(folder_path):\n",
    "        if file_name.startswith(doc_id):\n",
    "            return os.path.join(folder_path, file_name)\n",
    "\n",
    "with open('./data/step1/list.json', 'r') as f:\n",
    "    list = json.load(f)\n",
    "\n",
    "md_file_location = './data/files'\n",
    "\n",
    "file_counter = 0\n",
    "jsonl_file = f\"./data/cleaning/toProcess/jsonl_{file_counter}.jsonl\"\n",
    "\n",
    "skipped_files = []\n",
    "\n",
    "# Make cleaning directories\n",
    "os.makedirs('./data/cleaning', exist_ok=True)\n",
    "os.makedirs('./data/cleaning/toProcess', exist_ok=True)\n",
    "os.makedirs('./data/cleaning/output', exist_ok=True)\n",
    "\n",
    "prompt = prompt_formatted()\n",
    "\n",
    "# This loop takes each submission and adds it to the jsonl file in a format that can be used by the OpenAI API\n",
    "for i in list[\"data\"]:\n",
    "    if i[\"metadata\"][\"removed\"] == \"Y\":\n",
    "        skipped_files.append(i[\"uniqueId\"])\n",
    "        continue\n",
    "    try:\n",
    "        md_file_path = get_file_path(i.get(\"uniqueId\"))       \n",
    "        with open(md_file_path, 'r') as file:\n",
    "            submission = file.read()                \n",
    "        sub_author = i[\"submitter\"]\n",
    "        submission_formatted = get_submission(submission, sub_author)\n",
    "        function = get_function()\n",
    "\n",
    "        ldata = { \"custom_id\": i[\"uniqueId\"], \"method\": \"POST\", \"url\": \"/v1/chat/completions\", \"body\": {\"model\": \"gpt-4o-2024-05-13\", \"messages\": [{\"role\": \"system\", \"content\": prompt},{\"role\": \"user\", \"content\": submission_formatted}], \"max_tokens\": 4096, \"temperature\": 1e-9, \"frequency_penalty\": 0, \"presence_penalty\": 0, \"top_p\": 0, \"tools\":[function], \"tool_choice\": { \"type\": \"function\", \"function\": { \"name\": \"submission_eval\" } }}}        \n",
    "        \n",
    "        if os.path.exists(jsonl_file) and os.path.getsize(jsonl_file) >= 85 * 1024 * 1024:  # \n",
    "            file_counter += 1\n",
    "            jsonl_file = f\"./data/cleaning/toProcess/jsonl_{file_counter}.jsonl\"\n",
    "        \n",
    "        i[\"metadata\"][\"step_1\"][\"redo_motivation\"] = {\"batch_file\": f'jsonl_{file_counter}.jsonl'}\n",
    "        \n",
    "        with open(jsonl_file, 'a') as f:\n",
    "            json.dump(ldata, f)\n",
    "            f.write('\\n')\n",
    "\n",
    "    except Exception as e:\n",
    "        print(e)\n",
    "        continue\n",
    "\n",
    "local_timezone = pytz.timezone('Australia/Sydney')\n",
    "current_time = datetime.now(local_timezone).strftime(\"%Y-%m-%d %H:%M:%S %Z\")\n",
    "\n",
    "list[\"metadata\"][\"step_1\"][\"redo_motivations\"] = {\n",
    "    \"fn\": get_function(),    \n",
    "    \"time\": current_time\n",
    "}\n",
    "\n",
    "with open('./data/step1/list.json', 'w') as f:\n",
    "    json.dump(list, f)"
   ]
  },
  {
   "cell_type": "code",
   "execution_count": null,
   "metadata": {},
   "outputs": [],
   "source": [
    "# CELL 3\n",
    "from openai import OpenAI\n",
    "import os\n",
    "from datetime import datetime\n",
    "import pytz\n",
    "\n",
    "client = OpenAI(api_key=os.getenv('OPENAI_KEY'), max_retries=3)\n",
    "\n",
    "jsonl_dir = './data/cleaning/toProcess'\n",
    "\n",
    "jsonl_files = [f for f in os.listdir(jsonl_dir) if os.path.isfile(os.path.join(jsonl_dir, f)) and f.endswith('.jsonl')]\n",
    "\n",
    "file_ids = []\n",
    "\n",
    "for file in jsonl_files:\n",
    "    file_object = client.files.create(\n",
    "        file=open(f\"{jsonl_dir}/{file}\", \"rb\"),\n",
    "        purpose=\"batch\"\n",
    "    )\n",
    "    file_ids.append(file_object.id)\n",
    "\n",
    "with open('./data/step1/list.json', 'r') as f:\n",
    "    list = json.load(f)\n",
    "\n",
    "local_timezone = pytz.timezone('Australia/Sydney')\n",
    "current_time = datetime.now(local_timezone).strftime(\"%Y-%m-%d %H:%M:%S %Z\")\n",
    "\n",
    "list[\"metadata\"][\"step_1\"][\"redo_motivations\"][\"file_upload\"] = {\n",
    "            \"timestamp\": current_time,\n",
    "            \"file_ids\": file_ids,\n",
    "        }\n",
    "\n",
    "with open('./data/step1/list.json', 'w') as f:\n",
    "    json.dump(list, f)"
   ]
  },
  {
   "cell_type": "code",
   "execution_count": null,
   "metadata": {},
   "outputs": [],
   "source": [
    "# We have now uploaded all the files and have their IDs, lets create a batch job for each\n",
    "batch_ids = []\n",
    "\n",
    "with open('./data/step1/list.json', 'r') as f:\n",
    "    list = json.load(f)\n",
    "\n",
    "file_ids = list[\"metadata\"][\"step_1\"][\"redo_motivations\"][\"file_upload\"][\"file_ids\"]\n",
    "\n",
    "for file_id in file_ids:\n",
    "    job = client.batches.create(\n",
    "            input_file_id=file_id,\n",
    "            endpoint=\"/v1/chat/completions\",\n",
    "            completion_window=\"24h\"\n",
    "          )\n",
    "    batch_ids.append(job.id)\n",
    "\n",
    "local_timezone = pytz.timezone('Australia/Sydney')\n",
    "current_time = datetime.now(local_timezone).strftime(\"%Y-%m-%d %H:%M:%S %Z\")\n",
    "\n",
    "list[\"metadata\"][\"step_1\"][\"redo_motivations\"][\"batch_creation\"] = {\n",
    "            \"timestamp\": current_time,\n",
    "            \"batch_ids\": batch_ids,\n",
    "        }\n",
    "\n",
    "with open('./data/step1/list.json', 'w') as f:\n",
    "    json.dump(list, f)"
   ]
  },
  {
   "cell_type": "code",
   "execution_count": null,
   "metadata": {},
   "outputs": [],
   "source": [
    "with open('./data/step1/list.json', 'r') as f:\n",
    "    list = json.load(f)\n",
    "\n",
    "desired_batch_ids = list[\"metadata\"][\"step_1\"][\"redo_motivations\"][\"batch_creation\"][\"batch_ids\"]\n",
    "\n",
    "batch_jobs = client.batches.list()\n",
    "\n",
    "for batch in batch_jobs.data:\n",
    "    if batch.id in desired_batch_ids:\n",
    "        print(batch.id, batch.status, batch.request_counts)"
   ]
  },
  {
   "cell_type": "code",
   "execution_count": null,
   "metadata": {},
   "outputs": [],
   "source": [
    "\n",
    "batch_jobs = client.batches.list()\n",
    "\n",
    "with open('./data/step1/list.json', 'r') as f:\n",
    "    list = json.load(f)\n",
    "\n",
    "# we only want to download the batch jobs that were set up in cell 11\n",
    "desired_batch_ids = list[\"metadata\"][\"step_1\"][\"redo_motivations\"][\"batch_creation\"][\"batch_ids\"]\n",
    "\n",
    "success_count = 0\n",
    "error_count = 0\n",
    "\n",
    "created_time = None\n",
    "completion_time = None\n",
    "\n",
    "for batch in batch_jobs.data:\n",
    "    if batch.id in desired_batch_ids:\n",
    "        # Gets the first created batch time\n",
    "        if not created_time or batch.created_at < created_time:\n",
    "            created_time = batch.created_at\n",
    "        # Gets the lasted completed batch time\n",
    "        if not completion_time or batch.completed_at > completion_time:\n",
    "            completion_time = batch.completed_at\n",
    "        if batch.output_file_id:\n",
    "            success_count += batch.request_counts.total - batch.request_counts.failed\n",
    "            output_file = batch.output_file_id\n",
    "            content = client.files.content(output_file)\n",
    "            jsonl_file_path = f'./data/cleaning/output/{output_file}.jsonl'\n",
    "            content.write_to_file(jsonl_file_path)\n",
    "        # Handle error files\n",
    "        if batch.error_file_id:\n",
    "            error_count += batch.request_counts.failed\n",
    "            err_file = batch.error_file_id\n",
    "            err_content = client.files.content(err_file)\n",
    "            err_jsonl_file_path = f'./data/cleaning/output/err_{err_file}.jsonl'\n",
    "            err_content.write_to_file(err_jsonl_file_path)\n",
    "\n",
    "local_timezone = pytz.timezone('Australia/Sydney')\n",
    "current_time = datetime.now(local_timezone).strftime(\"%Y-%m-%d %H:%M:%S %Z\")\n",
    "\n",
    "time_difference = completion_time - created_time\n",
    "\n",
    "list[\"metadata\"][\"step_1\"][\"redo_motivations\"][\"batch_creation\"][\"download_timestamp\"] = current_time\n",
    "list[\"metadata\"][\"step_1\"][\"redo_motivations\"][\"batch_creation\"][\"completetion_duration_seconds\"] = time_difference\n",
    "list[\"metadata\"][\"step_1\"][\"redo_motivations\"][\"batch_creation\"][\"success\"] = success_count\n",
    "list[\"metadata\"][\"step_1\"][\"redo_motivations\"][\"batch_creation\"][\"errors\"] = error_count\n",
    "\n",
    "with open('./data/step1/list.json', 'w') as f:\n",
    "    json.dump(list, f)"
   ]
  },
  {
   "cell_type": "code",
   "execution_count": null,
   "metadata": {},
   "outputs": [],
   "source": [
    "import pandas as pd\n",
    "\n",
    "# Parses the JSON from a function call, if there is an error in JSON parsing, recalls the LLM with the fix json function to get a valid json response.\n",
    "def parse_JSON(json_str: str) -> dict:        \n",
    "    try: \n",
    "        return json.loads(json_str)\n",
    "    except Exception as e:              \n",
    "        messages = [\n",
    "      {\n",
    "        'role': 'system',\n",
    "        'content':\n",
    "          'Assistant is a large language model designed to fix and return correct JSON objects.',\n",
    "      },\n",
    "      {\n",
    "        'role': 'user',\n",
    "        'content': f'ORIGINAL ERROR CONTAINING JSON OBJECT:\\n\\n{json_str}\\n\\nERROR MESSAGE: {e}',\n",
    "      },\n",
    "    ]\n",
    "        \n",
    "        tool_choices = [{\n",
    "      'type': 'function',\n",
    "      'function': {\n",
    "        'name': 'fix_object',\n",
    "        'description':\n",
    "          'You will be given an incorrectly formed JSON Object and a error message. You must fix the incorrect JSON Object and return the valid JSON object.',\n",
    "        'parameters': {\n",
    "          'type': 'object',\n",
    "          'properties': {\n",
    "            'fixedJSON': {\n",
    "              'type': 'string',\n",
    "              'description': 'The reformated and error free JSON object. Return the JSON object only!',\n",
    "            },\n",
    "          },\n",
    "          'required': ['fixedJSON'],\n",
    "        },\n",
    "      },\n",
    "    }]                \n",
    "        response = client.chat.completions.create(\n",
    "                    model='gpt-4o-2024-05-13',\n",
    "                    messages=messages,                    \n",
    "                    max_tokens=4096,\n",
    "                    temperature=0,\n",
    "                    tools=tool_choices,\n",
    "                    tool_choice={ 'type': 'function', 'function': { 'name': 'fix_object' } },        \n",
    "                )        \n",
    "                \n",
    "        second_test_json = response.choices[0].message.tool_calls[0].function.arguments \n",
    "                  \n",
    "        to_return = json.loads(second_test_json)\n",
    "        return json.loads(to_return['fixedJSON'])\n",
    "\n",
    "output_folder = './data/cleaning/output'\n",
    "\n",
    "jsonl_files = [f for f in os.listdir(output_folder) if os.path.isfile(os.path.join(output_folder, f)) and f.endswith('.jsonl')]\n",
    "\n",
    "# Load original JSON list\n",
    "with open('./data/step1/list.json', 'r') as f:\n",
    "    list_data = json.load(f)\n",
    "\n",
    "prompt_tokens = 0\n",
    "completion_tokens = 0\n",
    "total_tokens = 0\n",
    "\n",
    "# Load the JSONL files\n",
    "for file in jsonl_files:    \n",
    "    with open(f\"{output_folder}/{file}\", \"r\") as f:\n",
    "        for line in f:\n",
    "            item = json.loads(line)            \n",
    "            item_key = item['custom_id']            \n",
    "            # grab the matching item in our list            \n",
    "            list_item = next((x for x in list_data[\"data\"] if x['uniqueId'] == item_key), None)\n",
    "            if list_item:\n",
    "              if item[\"response\"][\"status_code\"] != 200:                \n",
    "                list_item[\"metadata\"][\"step_1\"][\"redo_motivation\"][\"error\"] = item[\"response\"]\n",
    "                continue\n",
    "              json_res = parse_JSON(item['response']['body']['choices'][0]['message']['tool_calls'][0]['function']['arguments'])\n",
    "              list_item[\"step_1\"][\"new_motivations\"] = json_res\n",
    "              list_item[\"metadata\"][\"step_1\"][\"redo_motivation\"][\"system_fingerprint\"] = item['response']['body']['system_fingerprint']\n",
    "              list_item[\"metadata\"][\"step_1\"][\"redo_motivation\"][\"batch_id\"] = item['id']\n",
    "              prompt_tokens += item['response']['body'][\"usage\"][\"prompt_tokens\"]\n",
    "              completion_tokens += item['response']['body'][\"usage\"][\"completion_tokens\"]\n",
    "              total_tokens += item['response']['body'][\"usage\"][\"total_tokens\"]\n",
    "\n",
    "local_timezone = pytz.timezone('Australia/Sydney')\n",
    "current_time = datetime.now(local_timezone).strftime(\"%Y-%m-%d %H:%M:%S %Z\")\n",
    "\n",
    "list_data[\"metadata\"][\"step_1\"][\"redo_motivations\"][\"batch_processed\"] = {\"timestamp\": current_time}\n",
    "list_data[\"metadata\"][\"step_1\"][\"redo_motivations\"][\"usage\"] = {\"prompt_tokens\": prompt_tokens, \"completion_tokens\": completion_tokens, \"total_tokens\": total_tokens}\n",
    "\n",
    "# Save the updated list back to the json file\n",
    "with open('./data/step1/list.json', 'w') as f:\n",
    "    json.dump(list_data, f)\n",
    "\n",
    "# Export the list to an Excel file for review\n",
    "# Convert JSON to DataFrame\n",
    "df = pd.json_normalize(list_data[\"data\"])\n",
    "\n",
    "# Save DataFrame to Excel\n",
    "df.to_excel('./data/cleaning/step1.xlsx', index=False)"
   ]
  },
  {
   "cell_type": "markdown",
   "metadata": {},
   "source": [
    "## Lets go reclustering!\n",
    "\n",
    "#### This first cell purely updates all motivations to lowercase strings & saves a list of all motivations\n"
   ]
  },
  {
   "cell_type": "code",
   "execution_count": null,
   "metadata": {},
   "outputs": [],
   "source": [
    "from tqdm.notebook import tqdm\n",
    "from concurrent.futures import ThreadPoolExecutor\n",
    "import json\n",
    "\n",
    "# Data to process\n",
    "with open('./data/step1/list.json', 'r') as f:\n",
    "    list = json.load(f)\n",
    "\n",
    "all_motivations = []\n",
    "\n",
    "for item in tqdm(list['data']):\n",
    "    if \"step_1\" not in item or item['step_1'] is None or \"new_motivations\" not in item['step_1']:        \n",
    "        continue\n",
    "    try:\n",
    "        motivations = item['step_1']['new_motivations']['motivations'] if 'motivations' in item['step_1']['new_motivations'] else []\n",
    "        if not motivations:            \n",
    "            continue\n",
    "        if len(motivations) == 0:            \n",
    "            continue\n",
    "        lower_case_motivations = []\n",
    "        for motivation in motivations:\n",
    "            motivation['label'] = motivation['label'].lower()\n",
    "            lower_case_motivations.append(motivation)\n",
    "        item['step_1']['new_motivations']['motivations'] = lower_case_motivations\n",
    "        all_motivations.extend(lower_case_motivations)\n",
    "        if 'updated_motivations' in item['metadata']['step_1']:\n",
    "            item['metadata']['step_1']['updated_motivations']['new_motivations'] = {'original': motivations}\n",
    "        else:\n",
    "            item['metadata']['step_1']['updated_motivations'] = {'new_motivations': {'original': motivations}}\n",
    "        continue\n",
    "    \n",
    "    except Exception as e:\n",
    "        print(f\"Error occurred: {str(e)}\")        \n",
    "        continue\n",
    "\n",
    "with open('./data/step1/list.json', 'w') as f:\n",
    "    json.dump(list, f)\n",
    "\n",
    "with open('data_cleaning_motivations_new.json', 'w') as file:\n",
    "    json.dump(all_motivations, file)"
   ]
  },
  {
   "cell_type": "markdown",
   "metadata": {},
   "source": [
    "### We are going to cluster similar motivations\n"
   ]
  },
  {
   "cell_type": "code",
   "execution_count": 1,
   "metadata": {},
   "outputs": [],
   "source": [
    "from sklearn.cluster import KMeans, DBSCAN, AgglomerativeClustering, SpectralClustering\n",
    "from sklearn_extra.cluster import KMedoids\n",
    "from sklearn.mixture import GaussianMixture\n",
    "from sklearn.manifold import TSNE\n",
    "from sklearn.metrics import silhouette_score, calinski_harabasz_score, davies_bouldin_score, make_scorer\n",
    "from sklearn.model_selection import GridSearchCV\n",
    "from sklearn.base import BaseEstimator, ClusterMixin\n",
    "from sklearn.model_selection import StratifiedKFold\n",
    "from sklearn.model_selection import KFold\n",
    "from skopt import BayesSearchCV\n",
    "from skopt.space import Integer, Real\n",
    "from kneed import KneeLocator\n",
    "import matplotlib.pyplot as plt\n",
    "import numpy as np\n",
    "import pandas as pd\n",
    "from tqdm import tqdm\n",
    "from concurrent.futures import ThreadPoolExecutor\n",
    "from ai_client import get_vector\n",
    "import os\n",
    "import warnings"
   ]
  },
  {
   "cell_type": "markdown",
   "metadata": {},
   "source": [
    "## Get embeddings for all unique list items\n",
    "\n",
    "This is done in parallel to speed up processing of large lists\n"
   ]
  },
  {
   "cell_type": "code",
   "execution_count": 12,
   "metadata": {},
   "outputs": [
    {
     "name": "stderr",
     "output_type": "stream",
     "text": [
      "Overall Progress: 100%|██████████| 6460/6460 [05:22<00:00, 20.05it/s]\n"
     ]
    }
   ],
   "source": [
    "# import json\n",
    "# from concurrent.futures import ThreadPoolExecutor\n",
    "\n",
    "# # Load the JSON file\n",
    "# with open('./data/cleaning/data_cleaning_motivations_new.json', 'r') as file:\n",
    "#     data = json.load(file)\n",
    "\n",
    "# def get_embedding(string, main_pbar):    \n",
    "#     vector = get_vector(string)\n",
    "#     main_pbar.update(1)\n",
    "#     return vector\n",
    "\n",
    "# def load_saved_embeddings(file_path):\n",
    "#     if os.path.exists(file_path):\n",
    "#         return np.load(file_path, allow_pickle=True).item()\n",
    "#     return None\n",
    "\n",
    "# # Generate embeddings for all unique topics\n",
    "# def generate_embeddings_parallel(data, file_path='./data/cleaning/data_cleaning_motivations_new_embeddings.npy'):\n",
    "#     # Check if embeddings are already saved\n",
    "#     saved_embeddings = load_saved_embeddings(file_path)\n",
    "#     if saved_embeddings is not None:\n",
    "#         print(\"Embeddings loaded from file.\")\n",
    "#         return saved_embeddings\n",
    "    \n",
    "#     embeddings_dict = {}\n",
    "#     with tqdm(total=len(data), desc=\"Overall Progress\") as main_pbar:\n",
    "#         with ThreadPoolExecutor(max_workers=5) as executor:\n",
    "#             futures = {executor.submit(get_embedding, item['explanation'], main_pbar): item['label'] for item in data}\n",
    "#             for future in futures:\n",
    "#                 label = futures[future]\n",
    "#                 embeddings_dict[label] = future.result()\n",
    "    \n",
    "#     np.save(file_path, embeddings_dict)\n",
    "#     return embeddings_dict\n",
    "\n",
    "# embeddings = generate_embeddings_parallel(data)\n",
    "# topics = [item['label'] for item in data]\n",
    "\n",
    "import json\n",
    "from concurrent.futures import ThreadPoolExecutor\n",
    "\n",
    "# Load the JSON file\n",
    "with open('./data/cleaning/data_cleaning_motivations_new.json', 'r') as file:\n",
    "    data = json.load(file)\n",
    "\n",
    "def get_embedding(string, main_pbar):    \n",
    "    vector = get_vector(string)\n",
    "    main_pbar.update(1)\n",
    "    return vector\n",
    "\n",
    "def load_saved_embeddings(file_path):\n",
    "    if os.path.exists(file_path):\n",
    "        return np.load(file_path, allow_pickle=True).item()\n",
    "    return None\n",
    "\n",
    "# Generate embeddings for all unique topics\n",
    "def generate_embeddings_parallel(data, file_path='./data/cleaning/data_cleaning_motivations_new_embeddings_labels.npy'):\n",
    "    # Check if embeddings are already saved\n",
    "    saved_embeddings = load_saved_embeddings(file_path)\n",
    "    if saved_embeddings is not None:\n",
    "        print(\"Embeddings loaded from file.\")\n",
    "        return saved_embeddings\n",
    "    \n",
    "    embeddings_dict = {}\n",
    "    with tqdm(total=len(data), desc=\"Overall Progress\") as main_pbar:\n",
    "        with ThreadPoolExecutor(max_workers=5) as executor:\n",
    "            futures = {executor.submit(get_embedding, item['label'], main_pbar): item['label'] for item in data}\n",
    "            for future in futures:\n",
    "                label = futures[future]\n",
    "                embeddings_dict[label] = future.result()\n",
    "    \n",
    "    np.save(file_path, embeddings_dict)\n",
    "    return embeddings_dict\n",
    "\n",
    "embeddings = generate_embeddings_parallel(data)\n",
    "topics = [item['label'] for item in data]"
   ]
  },
  {
   "cell_type": "code",
   "execution_count": 13,
   "metadata": {},
   "outputs": [],
   "source": [
    "embeddings_file_path = './data/cleaning/data_cleaning_motivations_new_embeddings_labels.npy'\n",
    "embeddings_dict = np.load(embeddings_file_path, allow_pickle=True).item()\n",
    "labels, embeddings = zip(*embeddings_dict.items())\n",
    "embeddings = np.array(embeddings)"
   ]
  },
  {
   "cell_type": "markdown",
   "metadata": {},
   "source": [
    "## New approach to determining best cluster number and algorithm\n"
   ]
  },
  {
   "cell_type": "code",
   "execution_count": 16,
   "metadata": {},
   "outputs": [
    {
     "name": "stdout",
     "output_type": "stream",
     "text": [
      "Evaluated n_clusters=1093, silhouette_score=0.11369458188183214\n",
      "Evaluated n_clusters=1344, silhouette_score=0.10523331843048692\n",
      "Evaluated n_clusters=1358, silhouette_score=0.1039372689484801\n",
      "Evaluated n_clusters=1347, silhouette_score=0.10325736442105107\n",
      "Evaluated n_clusters=1124, silhouette_score=0.113735079746472\n",
      "Evaluated n_clusters=884, silhouette_score=0.11753883855143994\n",
      "Evaluated n_clusters=798, silhouette_score=0.11568954816411134\n",
      "Evaluated n_clusters=557, silhouette_score=0.11189430385791628\n",
      "Evaluated n_clusters=773, silhouette_score=0.11884258445102616\n",
      "Evaluated n_clusters=978, silhouette_score=0.11579700389034121\n",
      "Evaluated n_clusters=1500, silhouette_score=0.09265232164377508\n",
      "Evaluated n_clusters=500, silhouette_score=0.107479443836351\n",
      "Evaluated n_clusters=683, silhouette_score=0.11120513532728288\n",
      "Evaluated n_clusters=898, silhouette_score=0.11695964787638678\n",
      "Evaluated n_clusters=975, silhouette_score=0.11808259182474293\n",
      "Evaluated n_clusters=900, silhouette_score=0.11703303395640481\n"
     ]
    },
    {
     "name": "stderr",
     "output_type": "stream",
     "text": [
      "/Users/k/Documents/Local Development/03. UTS/new-acma-power-consultation/.venv/lib/python3.12/site-packages/skopt/optimizer/optimizer.py:517: UserWarning: The objective has been evaluated at point [900] before, using random point [1148]\n",
      "  warnings.warn(\n"
     ]
    },
    {
     "name": "stdout",
     "output_type": "stream",
     "text": [
      "Evaluated n_clusters=1148, silhouette_score=0.11418016752202426\n",
      "Evaluated n_clusters=907, silhouette_score=0.11840117059070629\n"
     ]
    },
    {
     "name": "stderr",
     "output_type": "stream",
     "text": [
      "/Users/k/Documents/Local Development/03. UTS/new-acma-power-consultation/.venv/lib/python3.12/site-packages/skopt/optimizer/optimizer.py:517: UserWarning: The objective has been evaluated at point [907] before, using random point [780]\n",
      "  warnings.warn(\n"
     ]
    },
    {
     "name": "stdout",
     "output_type": "stream",
     "text": [
      "Evaluated n_clusters=780, silhouette_score=0.11334857554416014\n",
      "Evaluated n_clusters=933, silhouette_score=0.117684914716962\n"
     ]
    },
    {
     "name": "stderr",
     "output_type": "stream",
     "text": [
      "/Users/k/Documents/Local Development/03. UTS/new-acma-power-consultation/.venv/lib/python3.12/site-packages/skopt/optimizer/optimizer.py:517: UserWarning: The objective has been evaluated at point [500] before, using random point [1031]\n",
      "  warnings.warn(\n"
     ]
    },
    {
     "name": "stdout",
     "output_type": "stream",
     "text": [
      "Evaluated n_clusters=1031, silhouette_score=0.11813615889490268\n",
      "Evaluated n_clusters=939, silhouette_score=0.11824755935438945\n"
     ]
    },
    {
     "name": "stderr",
     "output_type": "stream",
     "text": [
      "/Users/k/Documents/Local Development/03. UTS/new-acma-power-consultation/.venv/lib/python3.12/site-packages/skopt/optimizer/optimizer.py:517: UserWarning: The objective has been evaluated at point [939] before, using random point [1003]\n",
      "  warnings.warn(\n"
     ]
    },
    {
     "name": "stdout",
     "output_type": "stream",
     "text": [
      "Evaluated n_clusters=1003, silhouette_score=0.11715887048533326\n",
      "Evaluated n_clusters=935, silhouette_score=0.11781528384707933\n"
     ]
    },
    {
     "name": "stderr",
     "output_type": "stream",
     "text": [
      "/Users/k/Documents/Local Development/03. UTS/new-acma-power-consultation/.venv/lib/python3.12/site-packages/skopt/optimizer/optimizer.py:517: UserWarning: The objective has been evaluated at point [500] before, using random point [1069]\n",
      "  warnings.warn(\n"
     ]
    },
    {
     "name": "stdout",
     "output_type": "stream",
     "text": [
      "Evaluated n_clusters=1069, silhouette_score=0.11607395678389719\n"
     ]
    },
    {
     "name": "stderr",
     "output_type": "stream",
     "text": [
      "/Users/k/Documents/Local Development/03. UTS/new-acma-power-consultation/.venv/lib/python3.12/site-packages/skopt/optimizer/optimizer.py:517: UserWarning: The objective has been evaluated at point [500] before, using random point [853]\n",
      "  warnings.warn(\n"
     ]
    },
    {
     "name": "stdout",
     "output_type": "stream",
     "text": [
      "Evaluated n_clusters=853, silhouette_score=0.11773810011102724\n"
     ]
    },
    {
     "name": "stderr",
     "output_type": "stream",
     "text": [
      "/Users/k/Documents/Local Development/03. UTS/new-acma-power-consultation/.venv/lib/python3.12/site-packages/skopt/optimizer/optimizer.py:517: UserWarning: The objective has been evaluated at point [500] before, using random point [926]\n",
      "  warnings.warn(\n"
     ]
    },
    {
     "name": "stdout",
     "output_type": "stream",
     "text": [
      "Evaluated n_clusters=926, silhouette_score=0.12147910555197793\n",
      "Evaluated n_clusters=932, silhouette_score=0.11829807048367044\n"
     ]
    },
    {
     "name": "stderr",
     "output_type": "stream",
     "text": [
      "/Users/k/Documents/Local Development/03. UTS/new-acma-power-consultation/.venv/lib/python3.12/site-packages/skopt/optimizer/optimizer.py:517: UserWarning: The objective has been evaluated at point [932] before, using random point [1313]\n",
      "  warnings.warn(\n"
     ]
    },
    {
     "name": "stdout",
     "output_type": "stream",
     "text": [
      "Evaluated n_clusters=1313, silhouette_score=0.10815372201083792\n",
      "Evaluated n_clusters=931, silhouette_score=0.11716098876028917\n"
     ]
    },
    {
     "name": "stderr",
     "output_type": "stream",
     "text": [
      "/Users/k/Documents/Local Development/03. UTS/new-acma-power-consultation/.venv/lib/python3.12/site-packages/skopt/optimizer/optimizer.py:517: UserWarning: The objective has been evaluated at point [931] before, using random point [1483]\n",
      "  warnings.warn(\n"
     ]
    },
    {
     "name": "stdout",
     "output_type": "stream",
     "text": [
      "Evaluated n_clusters=1483, silhouette_score=0.09372940752548513\n",
      "Evaluated n_clusters=929, silhouette_score=0.11404285055745633\n",
      "Evaluated n_clusters=934, silhouette_score=0.11612541635489664\n"
     ]
    },
    {
     "name": "stderr",
     "output_type": "stream",
     "text": [
      "/Users/k/Documents/Local Development/03. UTS/new-acma-power-consultation/.venv/lib/python3.12/site-packages/skopt/optimizer/optimizer.py:517: UserWarning: The objective has been evaluated at point [500] before, using random point [1134]\n",
      "  warnings.warn(\n"
     ]
    },
    {
     "name": "stdout",
     "output_type": "stream",
     "text": [
      "Evaluated n_clusters=1134, silhouette_score=0.1157938093474113\n",
      "Evaluated n_clusters=941, silhouette_score=0.11625700844387463\n",
      "Evaluated n_clusters=940, silhouette_score=0.11762641303631761\n"
     ]
    },
    {
     "name": "stderr",
     "output_type": "stream",
     "text": [
      "/Users/k/Documents/Local Development/03. UTS/new-acma-power-consultation/.venv/lib/python3.12/site-packages/skopt/optimizer/optimizer.py:517: UserWarning: The objective has been evaluated at point [500] before, using random point [985]\n",
      "  warnings.warn(\n"
     ]
    },
    {
     "name": "stdout",
     "output_type": "stream",
     "text": [
      "Evaluated n_clusters=985, silhouette_score=0.11429871009299614\n",
      "Evaluated n_clusters=921, silhouette_score=0.11933389363970616\n",
      "Evaluated n_clusters=918, silhouette_score=0.1184604474137522\n",
      "Evaluated n_clusters=916, silhouette_score=0.11942275987456945\n",
      "Evaluated n_clusters=913, silhouette_score=0.11954729636059255\n"
     ]
    },
    {
     "name": "stderr",
     "output_type": "stream",
     "text": [
      "/Users/k/Documents/Local Development/03. UTS/new-acma-power-consultation/.venv/lib/python3.12/site-packages/skopt/optimizer/optimizer.py:517: UserWarning: The objective has been evaluated at point [907] before, using random point [985]\n",
      "  warnings.warn(\n"
     ]
    },
    {
     "name": "stdout",
     "output_type": "stream",
     "text": [
      "Evaluated n_clusters=985, silhouette_score=0.11429871009299614\n",
      "Evaluated n_clusters=886, silhouette_score=0.11792999401625105\n"
     ]
    },
    {
     "name": "stderr",
     "output_type": "stream",
     "text": [
      "/Users/k/Documents/Local Development/03. UTS/new-acma-power-consultation/.venv/lib/python3.12/site-packages/skopt/optimizer/optimizer.py:517: UserWarning: The objective has been evaluated at point [884] before, using random point [717]\n",
      "  warnings.warn(\n"
     ]
    },
    {
     "name": "stdout",
     "output_type": "stream",
     "text": [
      "Evaluated n_clusters=717, silhouette_score=0.11554268465859137\n",
      "Evaluated n_clusters=888, silhouette_score=0.1166629811505345\n",
      "Evaluated n_clusters=893, silhouette_score=0.11886211574090118\n"
     ]
    },
    {
     "name": "stderr",
     "output_type": "stream",
     "text": [
      "/Users/k/Documents/Local Development/03. UTS/new-acma-power-consultation/.venv/lib/python3.12/site-packages/skopt/optimizer/optimizer.py:517: UserWarning: The objective has been evaluated at point [500] before, using random point [529]\n",
      "  warnings.warn(\n"
     ]
    },
    {
     "name": "stdout",
     "output_type": "stream",
     "text": [
      "Evaluated n_clusters=529, silhouette_score=0.10824530323550358\n",
      "Evaluated n_clusters=887, silhouette_score=0.11866150803110478\n",
      "Evaluated n_clusters=883, silhouette_score=0.1189695866221437\n",
      "Evaluated n_clusters=878, silhouette_score=0.11775393239749296\n",
      "Evaluated n_clusters=879, silhouette_score=0.11767582336407814\n",
      "Evaluated n_clusters=501, silhouette_score=0.11203949547861779\n",
      "Evaluated n_clusters=877, silhouette_score=0.11785867511647788\n",
      "Evaluated n_clusters=653, silhouette_score=0.11178032804538979\n",
      "Evaluated n_clusters=1205, silhouette_score=0.11270791444826564\n",
      "Evaluated n_clusters=646, silhouette_score=0.11599862901948538\n",
      "Evaluated n_clusters=882, silhouette_score=0.11552615386764538\n"
     ]
    },
    {
     "name": "stderr",
     "output_type": "stream",
     "text": [
      "/Users/k/Documents/Local Development/03. UTS/new-acma-power-consultation/.venv/lib/python3.12/site-packages/skopt/optimizer/optimizer.py:517: UserWarning: The objective has been evaluated at point [893] before, using random point [1029]\n",
      "  warnings.warn(\n"
     ]
    },
    {
     "name": "stdout",
     "output_type": "stream",
     "text": [
      "Evaluated n_clusters=1029, silhouette_score=0.11353263115732408\n",
      "Evaluated n_clusters=874, silhouette_score=0.11932118279762648\n",
      "Evaluated n_clusters=870, silhouette_score=0.11761980669942976\n",
      "Evaluated n_clusters=871, silhouette_score=0.11763153720736053\n",
      "Evaluated n_clusters=872, silhouette_score=0.11743897784188848\n",
      "Evaluated n_clusters=873, silhouette_score=0.11760647630627918\n"
     ]
    },
    {
     "name": "stderr",
     "output_type": "stream",
     "text": [
      "/Users/k/Documents/Local Development/03. UTS/new-acma-power-consultation/.venv/lib/python3.12/site-packages/skopt/optimizer/optimizer.py:517: UserWarning: The objective has been evaluated at point [874] before, using random point [1391]\n",
      "  warnings.warn(\n"
     ]
    },
    {
     "name": "stdout",
     "output_type": "stream",
     "text": [
      "Evaluated n_clusters=1391, silhouette_score=0.10227610038262275\n",
      "Evaluated n_clusters=875, silhouette_score=0.11758216626192644\n",
      "Evaluated n_clusters=876, silhouette_score=0.11787828907980179\n"
     ]
    },
    {
     "name": "stderr",
     "output_type": "stream",
     "text": [
      "/Users/k/Documents/Local Development/03. UTS/new-acma-power-consultation/.venv/lib/python3.12/site-packages/skopt/optimizer/optimizer.py:517: UserWarning: The objective has been evaluated at point [500] before, using random point [1301]\n",
      "  warnings.warn(\n"
     ]
    },
    {
     "name": "stdout",
     "output_type": "stream",
     "text": [
      "Evaluated n_clusters=1301, silhouette_score=0.10820019880011339\n"
     ]
    },
    {
     "name": "stderr",
     "output_type": "stream",
     "text": [
      "/Users/k/Documents/Local Development/03. UTS/new-acma-power-consultation/.venv/lib/python3.12/site-packages/skopt/optimizer/optimizer.py:517: UserWarning: The objective has been evaluated at point [500] before, using random point [902]\n",
      "  warnings.warn(\n"
     ]
    },
    {
     "name": "stdout",
     "output_type": "stream",
     "text": [
      "Evaluated n_clusters=902, silhouette_score=0.11902701824854577\n"
     ]
    },
    {
     "name": "stderr",
     "output_type": "stream",
     "text": [
      "/Users/k/Documents/Local Development/03. UTS/new-acma-power-consultation/.venv/lib/python3.12/site-packages/skopt/optimizer/optimizer.py:517: UserWarning: The objective has been evaluated at point [500] before, using random point [963]\n",
      "  warnings.warn(\n"
     ]
    },
    {
     "name": "stdout",
     "output_type": "stream",
     "text": [
      "Evaluated n_clusters=963, silhouette_score=0.11594294133789816\n"
     ]
    },
    {
     "name": "stderr",
     "output_type": "stream",
     "text": [
      "/Users/k/Documents/Local Development/03. UTS/new-acma-power-consultation/.venv/lib/python3.12/site-packages/skopt/optimizer/optimizer.py:517: UserWarning: The objective has been evaluated at point [872] before, using random point [701]\n",
      "  warnings.warn(\n"
     ]
    },
    {
     "name": "stdout",
     "output_type": "stream",
     "text": [
      "Evaluated n_clusters=701, silhouette_score=0.11347527588465461\n"
     ]
    },
    {
     "name": "stderr",
     "output_type": "stream",
     "text": [
      "/Users/k/Documents/Local Development/03. UTS/new-acma-power-consultation/.venv/lib/python3.12/site-packages/skopt/optimizer/optimizer.py:517: UserWarning: The objective has been evaluated at point [500] before, using random point [711]\n",
      "  warnings.warn(\n"
     ]
    },
    {
     "name": "stdout",
     "output_type": "stream",
     "text": [
      "Evaluated n_clusters=711, silhouette_score=0.11481044390399141\n"
     ]
    },
    {
     "name": "stderr",
     "output_type": "stream",
     "text": [
      "/Users/k/Documents/Local Development/03. UTS/new-acma-power-consultation/.venv/lib/python3.12/site-packages/skopt/optimizer/optimizer.py:517: UserWarning: The objective has been evaluated at point [875] before, using random point [1087]\n",
      "  warnings.warn(\n"
     ]
    },
    {
     "name": "stdout",
     "output_type": "stream",
     "text": [
      "Evaluated n_clusters=1087, silhouette_score=0.11295392397760613\n"
     ]
    },
    {
     "name": "stderr",
     "output_type": "stream",
     "text": [
      "/Users/k/Documents/Local Development/03. UTS/new-acma-power-consultation/.venv/lib/python3.12/site-packages/skopt/optimizer/optimizer.py:517: UserWarning: The objective has been evaluated at point [500] before, using random point [532]\n",
      "  warnings.warn(\n"
     ]
    },
    {
     "name": "stdout",
     "output_type": "stream",
     "text": [
      "Evaluated n_clusters=532, silhouette_score=0.11030094731724106\n"
     ]
    },
    {
     "name": "stderr",
     "output_type": "stream",
     "text": [
      "/Users/k/Documents/Local Development/03. UTS/new-acma-power-consultation/.venv/lib/python3.12/site-packages/skopt/optimizer/optimizer.py:517: UserWarning: The objective has been evaluated at point [874] before, using random point [1012]\n",
      "  warnings.warn(\n"
     ]
    },
    {
     "name": "stdout",
     "output_type": "stream",
     "text": [
      "Evaluated n_clusters=1012, silhouette_score=0.11594983480556979\n"
     ]
    },
    {
     "name": "stderr",
     "output_type": "stream",
     "text": [
      "/Users/k/Documents/Local Development/03. UTS/new-acma-power-consultation/.venv/lib/python3.12/site-packages/skopt/optimizer/optimizer.py:517: UserWarning: The objective has been evaluated at point [1205] before, using random point [908]\n",
      "  warnings.warn(\n"
     ]
    },
    {
     "name": "stdout",
     "output_type": "stream",
     "text": [
      "Evaluated n_clusters=908, silhouette_score=0.11675407944479793\n"
     ]
    },
    {
     "name": "stderr",
     "output_type": "stream",
     "text": [
      "/Users/k/Documents/Local Development/03. UTS/new-acma-power-consultation/.venv/lib/python3.12/site-packages/skopt/optimizer/optimizer.py:517: UserWarning: The objective has been evaluated at point [1205] before, using random point [687]\n",
      "  warnings.warn(\n"
     ]
    },
    {
     "name": "stdout",
     "output_type": "stream",
     "text": [
      "Evaluated n_clusters=687, silhouette_score=0.1155904723263672\n"
     ]
    },
    {
     "name": "stderr",
     "output_type": "stream",
     "text": [
      "/Users/k/Documents/Local Development/03. UTS/new-acma-power-consultation/.venv/lib/python3.12/site-packages/skopt/optimizer/optimizer.py:517: UserWarning: The objective has been evaluated at point [500] before, using random point [998]\n",
      "  warnings.warn(\n"
     ]
    },
    {
     "name": "stdout",
     "output_type": "stream",
     "text": [
      "Evaluated n_clusters=998, silhouette_score=0.11504439297075289\n",
      "Evaluated n_clusters=869, silhouette_score=0.11843141608017353\n",
      "Evaluated n_clusters=1206, silhouette_score=0.1129842540034764\n"
     ]
    },
    {
     "name": "stderr",
     "output_type": "stream",
     "text": [
      "/Users/k/Documents/Local Development/03. UTS/new-acma-power-consultation/.venv/lib/python3.12/site-packages/skopt/optimizer/optimizer.py:517: UserWarning: The objective has been evaluated at point [500] before, using random point [633]\n",
      "  warnings.warn(\n"
     ]
    },
    {
     "name": "stdout",
     "output_type": "stream",
     "text": [
      "Evaluated n_clusters=633, silhouette_score=0.11305758100188569\n"
     ]
    },
    {
     "name": "stderr",
     "output_type": "stream",
     "text": [
      "/Users/k/Documents/Local Development/03. UTS/new-acma-power-consultation/.venv/lib/python3.12/site-packages/skopt/optimizer/optimizer.py:517: UserWarning: The objective has been evaluated at point [500] before, using random point [678]\n",
      "  warnings.warn(\n"
     ]
    },
    {
     "name": "stdout",
     "output_type": "stream",
     "text": [
      "Evaluated n_clusters=678, silhouette_score=0.11451444322660317\n"
     ]
    },
    {
     "name": "stderr",
     "output_type": "stream",
     "text": [
      "/Users/k/Documents/Local Development/03. UTS/new-acma-power-consultation/.venv/lib/python3.12/site-packages/skopt/optimizer/optimizer.py:517: UserWarning: The objective has been evaluated at point [869] before, using random point [900]\n",
      "  warnings.warn(\n"
     ]
    },
    {
     "name": "stdout",
     "output_type": "stream",
     "text": [
      "Evaluated n_clusters=900, silhouette_score=0.11703303395640481\n"
     ]
    },
    {
     "name": "stderr",
     "output_type": "stream",
     "text": [
      "/Users/k/Documents/Local Development/03. UTS/new-acma-power-consultation/.venv/lib/python3.12/site-packages/skopt/optimizer/optimizer.py:517: UserWarning: The objective has been evaluated at point [869] before, using random point [907]\n",
      "  warnings.warn(\n"
     ]
    },
    {
     "name": "stdout",
     "output_type": "stream",
     "text": [
      "Evaluated n_clusters=907, silhouette_score=0.11840117059070629\n"
     ]
    },
    {
     "name": "stderr",
     "output_type": "stream",
     "text": [
      "/Users/k/Documents/Local Development/03. UTS/new-acma-power-consultation/.venv/lib/python3.12/site-packages/skopt/optimizer/optimizer.py:517: UserWarning: The objective has been evaluated at point [500] before, using random point [1127]\n",
      "  warnings.warn(\n"
     ]
    },
    {
     "name": "stdout",
     "output_type": "stream",
     "text": [
      "Evaluated n_clusters=1127, silhouette_score=0.11546487863147696\n"
     ]
    },
    {
     "name": "stderr",
     "output_type": "stream",
     "text": [
      "/Users/k/Documents/Local Development/03. UTS/new-acma-power-consultation/.venv/lib/python3.12/site-packages/skopt/optimizer/optimizer.py:517: UserWarning: The objective has been evaluated at point [869] before, using random point [1485]\n",
      "  warnings.warn(\n"
     ]
    },
    {
     "name": "stdout",
     "output_type": "stream",
     "text": [
      "Evaluated n_clusters=1485, silhouette_score=0.09353847318669838\n"
     ]
    },
    {
     "name": "stderr",
     "output_type": "stream",
     "text": [
      "/Users/k/Documents/Local Development/03. UTS/new-acma-power-consultation/.venv/lib/python3.12/site-packages/skopt/optimizer/optimizer.py:517: UserWarning: The objective has been evaluated at point [869] before, using random point [1390]\n",
      "  warnings.warn(\n"
     ]
    },
    {
     "name": "stdout",
     "output_type": "stream",
     "text": [
      "Evaluated n_clusters=1390, silhouette_score=0.10056535751138482\n"
     ]
    },
    {
     "name": "stderr",
     "output_type": "stream",
     "text": [
      "/Users/k/Documents/Local Development/03. UTS/new-acma-power-consultation/.venv/lib/python3.12/site-packages/skopt/optimizer/optimizer.py:517: UserWarning: The objective has been evaluated at point [500] before, using random point [955]\n",
      "  warnings.warn(\n"
     ]
    },
    {
     "name": "stdout",
     "output_type": "stream",
     "text": [
      "Evaluated n_clusters=955, silhouette_score=0.11616644910538601\n",
      "Evaluated n_clusters=868, silhouette_score=0.11766374646234609\n"
     ]
    },
    {
     "name": "stderr",
     "output_type": "stream",
     "text": [
      "/Users/k/Documents/Local Development/03. UTS/new-acma-power-consultation/.venv/lib/python3.12/site-packages/skopt/optimizer/optimizer.py:517: UserWarning: The objective has been evaluated at point [869] before, using random point [658]\n",
      "  warnings.warn(\n"
     ]
    },
    {
     "name": "stdout",
     "output_type": "stream",
     "text": [
      "Evaluated n_clusters=658, silhouette_score=0.11379703019702539\n"
     ]
    },
    {
     "name": "stderr",
     "output_type": "stream",
     "text": [
      "/Users/k/Documents/Local Development/03. UTS/new-acma-power-consultation/.venv/lib/python3.12/site-packages/skopt/optimizer/optimizer.py:517: UserWarning: The objective has been evaluated at point [869] before, using random point [1034]\n",
      "  warnings.warn(\n"
     ]
    },
    {
     "name": "stdout",
     "output_type": "stream",
     "text": [
      "Evaluated n_clusters=1034, silhouette_score=0.11689163200687733\n"
     ]
    },
    {
     "name": "stderr",
     "output_type": "stream",
     "text": [
      "/Users/k/Documents/Local Development/03. UTS/new-acma-power-consultation/.venv/lib/python3.12/site-packages/skopt/optimizer/optimizer.py:517: UserWarning: The objective has been evaluated at point [869] before, using random point [1124]\n",
      "  warnings.warn(\n"
     ]
    },
    {
     "name": "stdout",
     "output_type": "stream",
     "text": [
      "Evaluated n_clusters=1124, silhouette_score=0.113735079746472\n"
     ]
    },
    {
     "name": "stderr",
     "output_type": "stream",
     "text": [
      "/Users/k/Documents/Local Development/03. UTS/new-acma-power-consultation/.venv/lib/python3.12/site-packages/skopt/optimizer/optimizer.py:517: UserWarning: The objective has been evaluated at point [500] before, using random point [787]\n",
      "  warnings.warn(\n"
     ]
    },
    {
     "name": "stdout",
     "output_type": "stream",
     "text": [
      "Evaluated n_clusters=787, silhouette_score=0.11624797914522828\n"
     ]
    },
    {
     "name": "stderr",
     "output_type": "stream",
     "text": [
      "/Users/k/Documents/Local Development/03. UTS/new-acma-power-consultation/.venv/lib/python3.12/site-packages/skopt/optimizer/optimizer.py:517: UserWarning: The objective has been evaluated at point [500] before, using random point [611]\n",
      "  warnings.warn(\n"
     ]
    },
    {
     "name": "stdout",
     "output_type": "stream",
     "text": [
      "Evaluated n_clusters=611, silhouette_score=0.11203283528237376\n"
     ]
    },
    {
     "name": "stderr",
     "output_type": "stream",
     "text": [
      "/Users/k/Documents/Local Development/03. UTS/new-acma-power-consultation/.venv/lib/python3.12/site-packages/skopt/optimizer/optimizer.py:517: UserWarning: The objective has been evaluated at point [500] before, using random point [794]\n",
      "  warnings.warn(\n"
     ]
    },
    {
     "name": "stdout",
     "output_type": "stream",
     "text": [
      "Evaluated n_clusters=794, silhouette_score=0.11609720872623439\n"
     ]
    },
    {
     "name": "stderr",
     "output_type": "stream",
     "text": [
      "/Users/k/Documents/Local Development/03. UTS/new-acma-power-consultation/.venv/lib/python3.12/site-packages/skopt/optimizer/optimizer.py:517: UserWarning: The objective has been evaluated at point [500] before, using random point [589]\n",
      "  warnings.warn(\n"
     ]
    },
    {
     "name": "stdout",
     "output_type": "stream",
     "text": [
      "Evaluated n_clusters=589, silhouette_score=0.10948717035934678\n"
     ]
    },
    {
     "name": "stderr",
     "output_type": "stream",
     "text": [
      "/Users/k/Documents/Local Development/03. UTS/new-acma-power-consultation/.venv/lib/python3.12/site-packages/skopt/optimizer/optimizer.py:517: UserWarning: The objective has been evaluated at point [500] before, using random point [1220]\n",
      "  warnings.warn(\n"
     ]
    },
    {
     "name": "stdout",
     "output_type": "stream",
     "text": [
      "Evaluated n_clusters=1220, silhouette_score=0.11247055472677138\n"
     ]
    },
    {
     "name": "stderr",
     "output_type": "stream",
     "text": [
      "/Users/k/Documents/Local Development/03. UTS/new-acma-power-consultation/.venv/lib/python3.12/site-packages/skopt/optimizer/optimizer.py:517: UserWarning: The objective has been evaluated at point [875] before, using random point [785]\n",
      "  warnings.warn(\n"
     ]
    },
    {
     "name": "stdout",
     "output_type": "stream",
     "text": [
      "Evaluated n_clusters=785, silhouette_score=0.11529545262994637\n",
      "Evaluated n_clusters=880, silhouette_score=0.11756976169137393\n",
      "Evaluated n_clusters=881, silhouette_score=0.11808071928716952\n"
     ]
    },
    {
     "name": "stderr",
     "output_type": "stream",
     "text": [
      "/Users/k/Documents/Local Development/03. UTS/new-acma-power-consultation/.venv/lib/python3.12/site-packages/skopt/optimizer/optimizer.py:517: UserWarning: The objective has been evaluated at point [881] before, using random point [1324]\n",
      "  warnings.warn(\n"
     ]
    },
    {
     "name": "stdout",
     "output_type": "stream",
     "text": [
      "Evaluated n_clusters=1324, silhouette_score=0.10506249453847463\n",
      "Optimal number of clusters for KMeans: 926\n",
      "Silhouette score for optimal KMeans clustering: 0.12147910555197793\n"
     ]
    }
   ],
   "source": [
    "import numpy as np\n",
    "from sklearn.cluster import KMeans\n",
    "from sklearn.metrics import silhouette_score\n",
    "from skopt import gp_minimize\n",
    "from skopt.space import Integer\n",
    "from skopt.utils import use_named_args\n",
    "\n",
    "number_iterations = 100\n",
    "\n",
    "# Define the search space for the number of clusters\n",
    "space_kmeans = [Integer(500, 1500, name='n_clusters')]\n",
    "\n",
    "# Function to compute silhouette score for KMeans with a given number of clusters\n",
    "@use_named_args(space_kmeans)\n",
    "def objective_kmeans(**params):\n",
    "    kmeans = KMeans(n_clusters=params['n_clusters'], random_state=0, n_init=10)\n",
    "    labels = kmeans.fit_predict(embeddings)\n",
    "    if len(set(labels)) > 1:\n",
    "        score = silhouette_score(embeddings, labels)\n",
    "        print(f\"Evaluated n_clusters={params['n_clusters']}, silhouette_score={score}\")\n",
    "        return -score  # gp_minimize minimizes the objective\n",
    "    else:\n",
    "        print(f\"Evaluated n_clusters={params['n_clusters']}, silhouette_score=-1 (invalid clustering)\")\n",
    "        return -1\n",
    "\n",
    "# Optimize using gp_minimize\n",
    "res_kmeans = gp_minimize(objective_kmeans, space_kmeans, n_calls=number_iterations, random_state=0)\n",
    "\n",
    "# Extract the best number of clusters and fit the final model\n",
    "best_n_clusters_kmeans = res_kmeans.x[0]\n",
    "optimal_kmeans = KMeans(n_clusters=best_n_clusters_kmeans, random_state=0, n_init=10)\n",
    "kmeans_labels = optimal_kmeans.fit_predict(embeddings)\n",
    "\n",
    "print(f\"Optimal number of clusters for KMeans: {best_n_clusters_kmeans}\")\n",
    "print(f\"Silhouette score for optimal KMeans clustering: {-res_kmeans.fun}\")"
   ]
  },
  {
   "cell_type": "code",
   "execution_count": 17,
   "metadata": {},
   "outputs": [
    {
     "name": "stdout",
     "output_type": "stream",
     "text": [
      "Evaluated n_clusters=1093, silhouette_score=0.004155804847657322\n",
      "Evaluated n_clusters=1344, silhouette_score=0.0038946658276575886\n",
      "Evaluated n_clusters=1358, silhouette_score=0.004784171096741816\n",
      "Evaluated n_clusters=1347, silhouette_score=0.0048614323478317345\n",
      "Evaluated n_clusters=1124, silhouette_score=0.006046221521312991\n",
      "Evaluated n_clusters=884, silhouette_score=0.008195342049264365\n",
      "Evaluated n_clusters=798, silhouette_score=0.006733843718994157\n",
      "Evaluated n_clusters=557, silhouette_score=0.009942557881647248\n",
      "Evaluated n_clusters=773, silhouette_score=0.006776188653818977\n",
      "Evaluated n_clusters=978, silhouette_score=0.01029828427009118\n",
      "Evaluated n_clusters=641, silhouette_score=0.011049255320260852\n",
      "Evaluated n_clusters=605, silhouette_score=0.009736384088298527\n",
      "Evaluated n_clusters=1500, silhouette_score=0.0004493817740684819\n",
      "Evaluated n_clusters=500, silhouette_score=0.010018859828558414\n",
      "Evaluated n_clusters=1226, silhouette_score=0.0048578217380362354\n"
     ]
    },
    {
     "name": "stderr",
     "output_type": "stream",
     "text": [
      "/Users/k/Documents/Local Development/03. UTS/new-acma-power-consultation/.venv/lib/python3.12/site-packages/skopt/optimizer/optimizer.py:517: UserWarning: The objective has been evaluated at point [500] before, using random point [1377]\n",
      "  warnings.warn(\n"
     ]
    },
    {
     "name": "stdout",
     "output_type": "stream",
     "text": [
      "Evaluated n_clusters=1377, silhouette_score=0.006933437450266583\n",
      "Evaluated n_clusters=699, silhouette_score=0.00578000035967275\n",
      "Evaluated n_clusters=941, silhouette_score=0.010478157421894542\n",
      "Evaluated n_clusters=527, silhouette_score=0.008515517209699558\n",
      "Evaluated n_clusters=631, silhouette_score=0.012497530350974489\n",
      "Evaluated n_clusters=629, silhouette_score=0.013618183438542038\n",
      "Evaluated n_clusters=625, silhouette_score=0.012436280930415164\n",
      "Evaluated n_clusters=1014, silhouette_score=0.00955827405666176\n",
      "Evaluated n_clusters=1430, silhouette_score=0.004516393302999053\n",
      "Evaluated n_clusters=1282, silhouette_score=0.003111933160049257\n",
      "Evaluated n_clusters=1174, silhouette_score=0.006504165515405454\n",
      "Evaluated n_clusters=842, silhouette_score=0.006605473892801467\n",
      "Evaluated n_clusters=1048, silhouette_score=0.006805089437641608\n",
      "Evaluated n_clusters=916, silhouette_score=0.0082041333598851\n",
      "Evaluated n_clusters=737, silhouette_score=0.007456869613433635\n",
      "Evaluated n_clusters=627, silhouette_score=0.01266707350936617\n",
      "Evaluated n_clusters=665, silhouette_score=0.008827956717979354\n",
      "Evaluated n_clusters=582, silhouette_score=0.010430244519794943\n",
      "Evaluated n_clusters=1462, silhouette_score=0.0017153683226180595\n",
      "Evaluated n_clusters=626, silhouette_score=0.012499708409501301\n",
      "Evaluated n_clusters=961, silhouette_score=0.008370104147610686\n",
      "Evaluated n_clusters=624, silhouette_score=0.0121971673134177\n",
      "Evaluated n_clusters=621, silhouette_score=0.011025418829263132\n",
      "Evaluated n_clusters=628, silhouette_score=0.013808251655844091\n"
     ]
    },
    {
     "name": "stderr",
     "output_type": "stream",
     "text": [
      "/Users/k/Documents/Local Development/03. UTS/new-acma-power-consultation/.venv/lib/python3.12/site-packages/skopt/optimizer/optimizer.py:517: UserWarning: The objective has been evaluated at point [500] before, using random point [1495]\n",
      "  warnings.warn(\n"
     ]
    },
    {
     "name": "stdout",
     "output_type": "stream",
     "text": [
      "Evaluated n_clusters=1495, silhouette_score=0.0010578146326994137\n"
     ]
    },
    {
     "name": "stderr",
     "output_type": "stream",
     "text": [
      "/Users/k/Documents/Local Development/03. UTS/new-acma-power-consultation/.venv/lib/python3.12/site-packages/skopt/optimizer/optimizer.py:517: UserWarning: The objective has been evaluated at point [629] before, using random point [1266]\n",
      "  warnings.warn(\n"
     ]
    },
    {
     "name": "stdout",
     "output_type": "stream",
     "text": [
      "Evaluated n_clusters=1266, silhouette_score=0.004673935321789133\n",
      "Evaluated n_clusters=630, silhouette_score=0.013814934278241002\n"
     ]
    },
    {
     "name": "stderr",
     "output_type": "stream",
     "text": [
      "/Users/k/Documents/Local Development/03. UTS/new-acma-power-consultation/.venv/lib/python3.12/site-packages/skopt/optimizer/optimizer.py:517: UserWarning: The objective has been evaluated at point [500] before, using random point [916]\n",
      "  warnings.warn(\n"
     ]
    },
    {
     "name": "stdout",
     "output_type": "stream",
     "text": [
      "Evaluated n_clusters=916, silhouette_score=0.0082041333598851\n"
     ]
    },
    {
     "name": "stderr",
     "output_type": "stream",
     "text": [
      "/Users/k/Documents/Local Development/03. UTS/new-acma-power-consultation/.venv/lib/python3.12/site-packages/skopt/optimizer/optimizer.py:517: UserWarning: The objective has been evaluated at point [631] before, using random point [737]\n",
      "  warnings.warn(\n"
     ]
    },
    {
     "name": "stdout",
     "output_type": "stream",
     "text": [
      "Evaluated n_clusters=737, silhouette_score=0.007456869613433635\n",
      "Evaluated n_clusters=632, silhouette_score=0.00978577197786993\n",
      "Evaluated n_clusters=620, silhouette_score=0.010141228080733315\n"
     ]
    },
    {
     "name": "stderr",
     "output_type": "stream",
     "text": [
      "/Users/k/Documents/Local Development/03. UTS/new-acma-power-consultation/.venv/lib/python3.12/site-packages/skopt/optimizer/optimizer.py:517: UserWarning: The objective has been evaluated at point [624] before, using random point [597]\n",
      "  warnings.warn(\n"
     ]
    },
    {
     "name": "stdout",
     "output_type": "stream",
     "text": [
      "Evaluated n_clusters=597, silhouette_score=0.010553607152990488\n"
     ]
    },
    {
     "name": "stderr",
     "output_type": "stream",
     "text": [
      "/Users/k/Documents/Local Development/03. UTS/new-acma-power-consultation/.venv/lib/python3.12/site-packages/skopt/optimizer/optimizer.py:517: UserWarning: The objective has been evaluated at point [629] before, using random point [730]\n",
      "  warnings.warn(\n"
     ]
    },
    {
     "name": "stdout",
     "output_type": "stream",
     "text": [
      "Evaluated n_clusters=730, silhouette_score=0.008271780844641658\n"
     ]
    },
    {
     "name": "stderr",
     "output_type": "stream",
     "text": [
      "/Users/k/Documents/Local Development/03. UTS/new-acma-power-consultation/.venv/lib/python3.12/site-packages/skopt/optimizer/optimizer.py:517: UserWarning: The objective has been evaluated at point [629] before, using random point [1415]\n",
      "  warnings.warn(\n"
     ]
    },
    {
     "name": "stdout",
     "output_type": "stream",
     "text": [
      "Evaluated n_clusters=1415, silhouette_score=0.006907105136986115\n"
     ]
    },
    {
     "name": "stderr",
     "output_type": "stream",
     "text": [
      "/Users/k/Documents/Local Development/03. UTS/new-acma-power-consultation/.venv/lib/python3.12/site-packages/skopt/optimizer/optimizer.py:517: UserWarning: The objective has been evaluated at point [500] before, using random point [819]\n",
      "  warnings.warn(\n"
     ]
    },
    {
     "name": "stdout",
     "output_type": "stream",
     "text": [
      "Evaluated n_clusters=819, silhouette_score=0.007119818331100388\n"
     ]
    },
    {
     "name": "stderr",
     "output_type": "stream",
     "text": [
      "/Users/k/Documents/Local Development/03. UTS/new-acma-power-consultation/.venv/lib/python3.12/site-packages/skopt/optimizer/optimizer.py:517: UserWarning: The objective has been evaluated at point [500] before, using random point [719]\n",
      "  warnings.warn(\n"
     ]
    },
    {
     "name": "stdout",
     "output_type": "stream",
     "text": [
      "Evaluated n_clusters=719, silhouette_score=0.0074857546205141425\n",
      "Evaluated n_clusters=501, silhouette_score=0.009948059537727946\n",
      "Evaluated n_clusters=999, silhouette_score=0.010424995357713405\n",
      "Evaluated n_clusters=1151, silhouette_score=0.005119758606176468\n",
      "Evaluated n_clusters=1200, silhouette_score=0.004528435947608189\n",
      "Evaluated n_clusters=866, silhouette_score=0.009021618171259295\n",
      "Evaluated n_clusters=545, silhouette_score=0.008943805777063128\n",
      "Evaluated n_clusters=1311, silhouette_score=0.0016632540426613207\n",
      "Evaluated n_clusters=1065, silhouette_score=0.006814886964240342\n",
      "Evaluated n_clusters=671, silhouette_score=0.008018031239578307\n",
      "Evaluated n_clusters=1026, silhouette_score=0.009718208435366613\n"
     ]
    },
    {
     "name": "stderr",
     "output_type": "stream",
     "text": [
      "/Users/k/Documents/Local Development/03. UTS/new-acma-power-consultation/.venv/lib/python3.12/site-packages/skopt/optimizer/optimizer.py:517: UserWarning: The objective has been evaluated at point [500] before, using random point [773]\n",
      "  warnings.warn(\n"
     ]
    },
    {
     "name": "stdout",
     "output_type": "stream",
     "text": [
      "Evaluated n_clusters=773, silhouette_score=0.006776188653818977\n",
      "Evaluated n_clusters=1395, silhouette_score=0.006965455855683337\n"
     ]
    },
    {
     "name": "stderr",
     "output_type": "stream",
     "text": [
      "/Users/k/Documents/Local Development/03. UTS/new-acma-power-consultation/.venv/lib/python3.12/site-packages/skopt/optimizer/optimizer.py:517: UserWarning: The objective has been evaluated at point [500] before, using random point [1150]\n",
      "  warnings.warn(\n"
     ]
    },
    {
     "name": "stdout",
     "output_type": "stream",
     "text": [
      "Evaluated n_clusters=1150, silhouette_score=0.005545608870935846\n"
     ]
    },
    {
     "name": "stderr",
     "output_type": "stream",
     "text": [
      "/Users/k/Documents/Local Development/03. UTS/new-acma-power-consultation/.venv/lib/python3.12/site-packages/skopt/optimizer/optimizer.py:517: UserWarning: The objective has been evaluated at point [630] before, using random point [938]\n",
      "  warnings.warn(\n"
     ]
    },
    {
     "name": "stdout",
     "output_type": "stream",
     "text": [
      "Evaluated n_clusters=938, silhouette_score=0.009649321094306407\n"
     ]
    },
    {
     "name": "stderr",
     "output_type": "stream",
     "text": [
      "/Users/k/Documents/Local Development/03. UTS/new-acma-power-consultation/.venv/lib/python3.12/site-packages/skopt/optimizer/optimizer.py:517: UserWarning: The objective has been evaluated at point [630] before, using random point [503]\n",
      "  warnings.warn(\n"
     ]
    },
    {
     "name": "stdout",
     "output_type": "stream",
     "text": [
      "Evaluated n_clusters=503, silhouette_score=0.011043203248096352\n",
      "Evaluated n_clusters=986, silhouette_score=0.011890438871114963\n",
      "Evaluated n_clusters=573, silhouette_score=0.009391385774888529\n",
      "Evaluated n_clusters=1243, silhouette_score=0.0046338945288708295\n",
      "Evaluated n_clusters=892, silhouette_score=0.008710796592305793\n",
      "Evaluated n_clusters=528, silhouette_score=0.009050936897856904\n",
      "Evaluated n_clusters=853, silhouette_score=0.009508062979192171\n",
      "Evaluated n_clusters=965, silhouette_score=0.00856082202293156\n"
     ]
    },
    {
     "name": "stderr",
     "output_type": "stream",
     "text": [
      "/Users/k/Documents/Local Development/03. UTS/new-acma-power-consultation/.venv/lib/python3.12/site-packages/skopt/optimizer/optimizer.py:517: UserWarning: The objective has been evaluated at point [500] before, using random point [924]\n",
      "  warnings.warn(\n"
     ]
    },
    {
     "name": "stdout",
     "output_type": "stream",
     "text": [
      "Evaluated n_clusters=924, silhouette_score=0.008261831271857508\n"
     ]
    },
    {
     "name": "stderr",
     "output_type": "stream",
     "text": [
      "/Users/k/Documents/Local Development/03. UTS/new-acma-power-consultation/.venv/lib/python3.12/site-packages/skopt/optimizer/optimizer.py:517: UserWarning: The objective has been evaluated at point [630] before, using random point [1224]\n",
      "  warnings.warn(\n"
     ]
    },
    {
     "name": "stdout",
     "output_type": "stream",
     "text": [
      "Evaluated n_clusters=1224, silhouette_score=0.005416342758843222\n"
     ]
    },
    {
     "name": "stderr",
     "output_type": "stream",
     "text": [
      "/Users/k/Documents/Local Development/03. UTS/new-acma-power-consultation/.venv/lib/python3.12/site-packages/skopt/optimizer/optimizer.py:517: UserWarning: The objective has been evaluated at point [630] before, using random point [838]\n",
      "  warnings.warn(\n"
     ]
    },
    {
     "name": "stdout",
     "output_type": "stream",
     "text": [
      "Evaluated n_clusters=838, silhouette_score=0.00592702576161626\n"
     ]
    },
    {
     "name": "stderr",
     "output_type": "stream",
     "text": [
      "/Users/k/Documents/Local Development/03. UTS/new-acma-power-consultation/.venv/lib/python3.12/site-packages/skopt/optimizer/optimizer.py:517: UserWarning: The objective has been evaluated at point [500] before, using random point [1322]\n",
      "  warnings.warn(\n"
     ]
    },
    {
     "name": "stdout",
     "output_type": "stream",
     "text": [
      "Evaluated n_clusters=1322, silhouette_score=0.0006315199687847573\n",
      "Evaluated n_clusters=654, silhouette_score=0.010867367410254791\n",
      "Evaluated n_clusters=1006, silhouette_score=0.009741867796470129\n",
      "Evaluated n_clusters=1108, silhouette_score=0.0037618814543750067\n"
     ]
    },
    {
     "name": "stderr",
     "output_type": "stream",
     "text": [
      "/Users/k/Documents/Local Development/03. UTS/new-acma-power-consultation/.venv/lib/python3.12/site-packages/skopt/optimizer/optimizer.py:517: UserWarning: The objective has been evaluated at point [631] before, using random point [1212]\n",
      "  warnings.warn(\n"
     ]
    },
    {
     "name": "stdout",
     "output_type": "stream",
     "text": [
      "Evaluated n_clusters=1212, silhouette_score=0.00499508955824278\n"
     ]
    },
    {
     "name": "stderr",
     "output_type": "stream",
     "text": [
      "/Users/k/Documents/Local Development/03. UTS/new-acma-power-consultation/.venv/lib/python3.12/site-packages/skopt/optimizer/optimizer.py:517: UserWarning: The objective has been evaluated at point [500] before, using random point [1278]\n",
      "  warnings.warn(\n"
     ]
    },
    {
     "name": "stdout",
     "output_type": "stream",
     "text": [
      "Evaluated n_clusters=1278, silhouette_score=0.003241028000464134\n"
     ]
    },
    {
     "name": "stderr",
     "output_type": "stream",
     "text": [
      "/Users/k/Documents/Local Development/03. UTS/new-acma-power-consultation/.venv/lib/python3.12/site-packages/skopt/optimizer/optimizer.py:517: UserWarning: The objective has been evaluated at point [632] before, using random point [1384]\n",
      "  warnings.warn(\n"
     ]
    },
    {
     "name": "stdout",
     "output_type": "stream",
     "text": [
      "Evaluated n_clusters=1384, silhouette_score=0.006479250565708214\n"
     ]
    },
    {
     "name": "stderr",
     "output_type": "stream",
     "text": [
      "/Users/k/Documents/Local Development/03. UTS/new-acma-power-consultation/.venv/lib/python3.12/site-packages/skopt/optimizer/optimizer.py:517: UserWarning: The objective has been evaluated at point [632] before, using random point [789]\n",
      "  warnings.warn(\n"
     ]
    },
    {
     "name": "stdout",
     "output_type": "stream",
     "text": [
      "Evaluated n_clusters=789, silhouette_score=0.0077467170684915685\n"
     ]
    },
    {
     "name": "stderr",
     "output_type": "stream",
     "text": [
      "/Users/k/Documents/Local Development/03. UTS/new-acma-power-consultation/.venv/lib/python3.12/site-packages/skopt/optimizer/optimizer.py:517: UserWarning: The objective has been evaluated at point [632] before, using random point [1349]\n",
      "  warnings.warn(\n"
     ]
    },
    {
     "name": "stdout",
     "output_type": "stream",
     "text": [
      "Evaluated n_clusters=1349, silhouette_score=0.005328754491443865\n",
      "Evaluated n_clusters=1036, silhouette_score=0.007940397772035064\n"
     ]
    },
    {
     "name": "stderr",
     "output_type": "stream",
     "text": [
      "/Users/k/Documents/Local Development/03. UTS/new-acma-power-consultation/.venv/lib/python3.12/site-packages/skopt/optimizer/optimizer.py:517: UserWarning: The objective has been evaluated at point [500] before, using random point [1248]\n",
      "  warnings.warn(\n"
     ]
    },
    {
     "name": "stdout",
     "output_type": "stream",
     "text": [
      "Evaluated n_clusters=1248, silhouette_score=0.005046750817780343\n",
      "Evaluated n_clusters=689, silhouette_score=0.00630207193727529\n",
      "Evaluated n_clusters=755, silhouette_score=0.009486737940720651\n"
     ]
    },
    {
     "name": "stderr",
     "output_type": "stream",
     "text": [
      "/Users/k/Documents/Local Development/03. UTS/new-acma-power-consultation/.venv/lib/python3.12/site-packages/skopt/optimizer/optimizer.py:517: UserWarning: The objective has been evaluated at point [500] before, using random point [1120]\n",
      "  warnings.warn(\n"
     ]
    },
    {
     "name": "stdout",
     "output_type": "stream",
     "text": [
      "Evaluated n_clusters=1120, silhouette_score=0.004852542402914101\n"
     ]
    },
    {
     "name": "stderr",
     "output_type": "stream",
     "text": [
      "/Users/k/Documents/Local Development/03. UTS/new-acma-power-consultation/.venv/lib/python3.12/site-packages/skopt/optimizer/optimizer.py:517: UserWarning: The objective has been evaluated at point [500] before, using random point [1360]\n",
      "  warnings.warn(\n"
     ]
    },
    {
     "name": "stdout",
     "output_type": "stream",
     "text": [
      "Evaluated n_clusters=1360, silhouette_score=0.004431796403759928\n"
     ]
    },
    {
     "name": "stderr",
     "output_type": "stream",
     "text": [
      "/Users/k/Documents/Local Development/03. UTS/new-acma-power-consultation/.venv/lib/python3.12/site-packages/skopt/optimizer/optimizer.py:517: UserWarning: The objective has been evaluated at point [632] before, using random point [1455]\n",
      "  warnings.warn(\n"
     ]
    },
    {
     "name": "stdout",
     "output_type": "stream",
     "text": [
      "Evaluated n_clusters=1455, silhouette_score=0.0017392845426416768\n"
     ]
    },
    {
     "name": "stderr",
     "output_type": "stream",
     "text": [
      "/Users/k/Documents/Local Development/03. UTS/new-acma-power-consultation/.venv/lib/python3.12/site-packages/skopt/optimizer/optimizer.py:517: UserWarning: The objective has been evaluated at point [632] before, using random point [1494]\n",
      "  warnings.warn(\n"
     ]
    },
    {
     "name": "stdout",
     "output_type": "stream",
     "text": [
      "Evaluated n_clusters=1494, silhouette_score=0.0009806017914206636\n"
     ]
    },
    {
     "name": "stderr",
     "output_type": "stream",
     "text": [
      "/Users/k/Documents/Local Development/03. UTS/new-acma-power-consultation/.venv/lib/python3.12/site-packages/skopt/optimizer/optimizer.py:517: UserWarning: The objective has been evaluated at point [632] before, using random point [1136]\n",
      "  warnings.warn(\n"
     ]
    },
    {
     "name": "stdout",
     "output_type": "stream",
     "text": [
      "Evaluated n_clusters=1136, silhouette_score=0.0071332945261316\n",
      "Evaluated n_clusters=633, silhouette_score=0.010668171338132495\n"
     ]
    },
    {
     "name": "stderr",
     "output_type": "stream",
     "text": [
      "/Users/k/Documents/Local Development/03. UTS/new-acma-power-consultation/.venv/lib/python3.12/site-packages/skopt/optimizer/optimizer.py:517: UserWarning: The objective has been evaluated at point [500] before, using random point [1088]\n",
      "  warnings.warn(\n"
     ]
    },
    {
     "name": "stdout",
     "output_type": "stream",
     "text": [
      "Evaluated n_clusters=1088, silhouette_score=0.004659249071324601\n"
     ]
    },
    {
     "name": "stderr",
     "output_type": "stream",
     "text": [
      "/Users/k/Documents/Local Development/03. UTS/new-acma-power-consultation/.venv/lib/python3.12/site-packages/skopt/optimizer/optimizer.py:517: UserWarning: The objective has been evaluated at point [500] before, using random point [1157]\n",
      "  warnings.warn(\n"
     ]
    },
    {
     "name": "stdout",
     "output_type": "stream",
     "text": [
      "Evaluated n_clusters=1157, silhouette_score=0.007176594426975375\n"
     ]
    },
    {
     "name": "stderr",
     "output_type": "stream",
     "text": [
      "/Users/k/Documents/Local Development/03. UTS/new-acma-power-consultation/.venv/lib/python3.12/site-packages/skopt/optimizer/optimizer.py:517: UserWarning: The objective has been evaluated at point [630] before, using random point [544]\n",
      "  warnings.warn(\n"
     ]
    },
    {
     "name": "stdout",
     "output_type": "stream",
     "text": [
      "Evaluated n_clusters=544, silhouette_score=0.009088335320285934\n"
     ]
    },
    {
     "name": "stderr",
     "output_type": "stream",
     "text": [
      "/Users/k/Documents/Local Development/03. UTS/new-acma-power-consultation/.venv/lib/python3.12/site-packages/skopt/optimizer/optimizer.py:517: UserWarning: The objective has been evaluated at point [630] before, using random point [890]\n",
      "  warnings.warn(\n"
     ]
    },
    {
     "name": "stdout",
     "output_type": "stream",
     "text": [
      "Evaluated n_clusters=890, silhouette_score=0.00825777835672612\n"
     ]
    },
    {
     "name": "stderr",
     "output_type": "stream",
     "text": [
      "/Users/k/Documents/Local Development/03. UTS/new-acma-power-consultation/.venv/lib/python3.12/site-packages/skopt/optimizer/optimizer.py:517: UserWarning: The objective has been evaluated at point [500] before, using random point [838]\n",
      "  warnings.warn(\n"
     ]
    },
    {
     "name": "stdout",
     "output_type": "stream",
     "text": [
      "Evaluated n_clusters=838, silhouette_score=0.00592702576161626\n",
      "Optimal parameters for KMedoids: n_clusters=630\n",
      "Silhouette score for optimal KMedoids clustering: 0.013814934278241002\n"
     ]
    }
   ],
   "source": [
    "from sklearn.mixture import GaussianMixture\n",
    "from sklearn.cluster import AgglomerativeClustering, SpectralClustering\n",
    "from sklearn_extra.cluster import KMedoids\n",
    "import numpy as np\n",
    "from sklearn.metrics import silhouette_score\n",
    "from skopt import gp_minimize\n",
    "from skopt.space import Integer\n",
    "from skopt.utils import use_named_args\n",
    "\n",
    "number_iterations = 100\n",
    "\n",
    "# Define the search space for each algorithm\n",
    "# space_gmm = [Integer(500, 1500, name='n_components')]\n",
    "# space_agglomerative = [Integer(500, 1500, name='n_clusters')]\n",
    "# space_spectral = [Integer(500, 1500, name='n_clusters')]\n",
    "space_kmedoids = [Integer(500, 1500, name='n_clusters')]\n",
    "\n",
    "# Objective functions for each algorithm\n",
    "# @use_named_args(space_gmm)\n",
    "# def objective_gmm(**params):\n",
    "#     gmm = GaussianMixture(n_components=params['n_components'], random_state=0)\n",
    "#     labels = gmm.fit_predict(embeddings)\n",
    "#     if len(set(labels)) > 1:\n",
    "#         score = silhouette_score(embeddings, labels)\n",
    "#         print(f\"Evaluated n_components={params['n_components']}, silhouette_score={score}\")\n",
    "#         return -score\n",
    "#     else:\n",
    "#         print(f\"Evaluated n_components={params['n_components']}, silhouette_score=-1 (invalid clustering)\")\n",
    "#         return -1\n",
    "\n",
    "# @use_named_args(space_agglomerative)\n",
    "# def objective_agglomerative(**params):\n",
    "#     agglomerative = AgglomerativeClustering(n_clusters=params['n_clusters'])\n",
    "#     labels = agglomerative.fit_predict(embeddings)\n",
    "#     if len(set(labels)) > 1:\n",
    "#         score = silhouette_score(embeddings, labels)\n",
    "#         print(f\"Evaluated n_clusters={params['n_clusters']}, silhouette_score={score}\")\n",
    "#         return -score\n",
    "#     else:\n",
    "#         print(f\"Evaluated n_clusters={params['n_clusters']}, silhouette_score=-1 (invalid clustering)\")\n",
    "#         return -1\n",
    "\n",
    "# @use_named_args(space_spectral)\n",
    "# def objective_spectral(**params):\n",
    "#     spectral = SpectralClustering(n_clusters=params['n_clusters'], affinity='nearest_neighbors', random_state=0)\n",
    "#     labels = spectral.fit_predict(embeddings)\n",
    "#     if len(set(labels)) > 1:\n",
    "#         score = silhouette_score(embeddings, labels)\n",
    "#         print(f\"Evaluated n_clusters={params['n_clusters']}, silhouette_score={score}\")\n",
    "#         return -score\n",
    "#     else:\n",
    "#         print(f\"Evaluated n_clusters={params['n_clusters']}, silhouette_score=-1 (invalid clustering)\")\n",
    "#         return -1\n",
    "\n",
    "@use_named_args(space_kmedoids)\n",
    "def objective_kmedoids(**params):\n",
    "    kmedoids = KMedoids(n_clusters=params['n_clusters'], random_state=0)\n",
    "    labels = kmedoids.fit_predict(embeddings)\n",
    "    if len(set(labels)) > 1:\n",
    "        score = silhouette_score(embeddings, labels)\n",
    "        print(f\"Evaluated n_clusters={params['n_clusters']}, silhouette_score={score}\")\n",
    "        return -score\n",
    "    else:\n",
    "        print(f\"Evaluated n_clusters={params['n_clusters']}, silhouette_score=-1 (invalid clustering)\")\n",
    "        return -1\n",
    "\n",
    "# Optimize using gp_minimize for each algorithm\n",
    "# res_gmm = gp_minimize(objective_gmm, space_gmm, n_calls=number_iterations, random_state=0)\n",
    "# res_agglomerative = gp_minimize(objective_agglomerative, space_agglomerative, n_calls=number_iterations, random_state=0)\n",
    "# res_spectral = gp_minimize(objective_spectral, space_spectral, n_calls=number_iterations, random_state=0)\n",
    "res_kmedoids = gp_minimize(objective_kmedoids, space_kmedoids, n_calls=number_iterations, random_state=0)\n",
    "\n",
    "# Extract the best parameters and fit the final models\n",
    "# best_n_components_gmm = res_gmm.x[0]\n",
    "# optimal_gmm = GaussianMixture(n_components=best_n_components_gmm, random_state=0)\n",
    "# gmm_labels = optimal_gmm.fit_predict(embeddings)\n",
    "\n",
    "# best_n_clusters_agglomerative = res_agglomerative.x[0]\n",
    "# optimal_agglomerative = AgglomerativeClustering(n_clusters=best_n_clusters_agglomerative)\n",
    "# agglomerative_labels = optimal_agglomerative.fit_predict(embeddings)\n",
    "\n",
    "# best_n_clusters_spectral = res_spectral.x[0]\n",
    "# optimal_spectral = SpectralClustering(n_clusters=best_n_clusters_spectral, affinity='nearest_neighbors', random_state=0)\n",
    "# spectral_labels = optimal_spectral.fit_predict(embeddings)\n",
    "\n",
    "best_n_clusters_kmedoids = res_kmedoids.x[0]\n",
    "# best_n_clusters_kmedoids = 1431\n",
    "optimal_kmedoids = KMedoids(n_clusters=best_n_clusters_kmedoids, random_state=0)\n",
    "kmedoids_labels = optimal_kmedoids.fit_predict(embeddings)\n",
    "\n",
    "# print(f\"Optimal parameters for GMM: n_components={best_n_components_gmm}\")\n",
    "# print(f\"Silhouette score for optimal GMM clustering: {-res_gmm.fun}\")\n",
    "\n",
    "# print(f\"Optimal parameters for Agglomerative: n_clusters={best_n_clusters_agglomerative}\")\n",
    "# print(f\"Silhouette score for optimal Agglomerative clustering: {-res_agglomerative.fun}\")\n",
    "\n",
    "# print(f\"Optimal parameters for Spectral: n_clusters={best_n_clusters_spectral}\")\n",
    "# print(f\"Silhouette score for optimal Spectral clustering: {-res_spectral.fun}\")\n",
    "\n",
    "print(f\"Optimal parameters for KMedoids: n_clusters={best_n_clusters_kmedoids}\")\n",
    "print(f\"Silhouette score for optimal KMedoids clustering: {-res_kmedoids.fun}\")\n"
   ]
  },
  {
   "cell_type": "markdown",
   "metadata": {},
   "source": [
    "## From the above cell, set the best label value\n",
    "\n",
    "It will be one of:\n",
    "\n",
    "- kmeans_labels\n",
    "- dbscan_labels\n",
    "- gmm_labels\n"
   ]
  },
  {
   "cell_type": "code",
   "execution_count": 18,
   "metadata": {},
   "outputs": [],
   "source": [
    "# best_labels = kmeans_labels\n",
    "# best_algorithm = 'kmeans' # or anything else (as KMedoids is only value that changes code execution)\n",
    "\n",
    "# kmedoids = 1431\n",
    "# kmeans = 926\n",
    "\n",
    "optimal_kmeans_num = 926\n",
    "optimal_kmedoids_num = 630"
   ]
  },
  {
   "cell_type": "markdown",
   "metadata": {},
   "source": [
    "## Group and display the topics\n",
    "\n",
    "This will output the list of clusters\n"
   ]
  },
  {
   "cell_type": "code",
   "execution_count": 19,
   "metadata": {},
   "outputs": [
    {
     "name": "stdout",
     "output_type": "stream",
     "text": [
      "Clusters have been saved to clusters.json\n"
     ]
    }
   ],
   "source": [
    "# Organize clustered topics\n",
    "clustered_topics = [[] for _ in range(optimal_kmeans_num)]\n",
    "for topic, label in zip(topics, kmeans_labels):\n",
    "    clustered_topics[label].append(topic)\n",
    "\n",
    "# Prepare the dictionary to save\n",
    "clusters_dict = {}\n",
    "\n",
    "    # For other algorithms, calculate the centroid and find the closest topic\n",
    "for i, cluster in enumerate(clustered_topics):\n",
    "    # Get the embeddings for the current cluster\n",
    "    cluster_embeddings = np.array([embeddings[topics.index(topic)] for topic in cluster])\n",
    "    \n",
    "    # Calculate the centroid of the cluster\n",
    "    centroid = np.mean(cluster_embeddings, axis=0)\n",
    "    \n",
    "    # Calculate the distances from each embedding to the centroid\n",
    "    distances = np.linalg.norm(cluster_embeddings - centroid, axis=1)\n",
    "    \n",
    "    # Find the index of the representative topic (the one closest to the centroid)\n",
    "    representative_idx = np.argmin(distances)\n",
    "    \n",
    "    # Add the representative topic and the full list of topics to the dictionary\n",
    "    clusters_dict[f\"{cluster[representative_idx]}\"] = {\n",
    "        \"topics\": cluster\n",
    "    }\n",
    "\n",
    "# Save to a JSON file\n",
    "with open('./data/cleaning/data_cleaning_motivations_new_clusters_kmeans.json', 'w') as json_file:\n",
    "    json.dump(clusters_dict, json_file, indent=4)\n",
    "\n",
    "print(\"Clusters have been saved to clusters.json\")\n"
   ]
  },
  {
   "cell_type": "code",
   "execution_count": 20,
   "metadata": {},
   "outputs": [
    {
     "name": "stdout",
     "output_type": "stream",
     "text": [
      "Clusters have been saved to clusters.json\n"
     ]
    }
   ],
   "source": [
    "import numpy as np\n",
    "import json\n",
    "# Import the KMedoids class\n",
    "from sklearn_extra.cluster import KMedoids\n",
    "\n",
    "# Assume embeddings is a numpy array of your topic embeddings and optimal_k is defined\n",
    "# Fit the k-medoids model\n",
    "# kmedoids = KMedoids(n_clusters=optimal_k, random_state=0).fit(embeddings)\n",
    "\n",
    "# Organize clustered topics based on k-medoids labels\n",
    "clustered_topics = [[] for _ in range(optimal_kmedoids_num)]\n",
    "for topic, label in zip(topics, kmedoids_labels):\n",
    "    clustered_topics[label].append(topic)\n",
    "\n",
    "# Prepare the dictionary to save\n",
    "clusters_dict = {}\n",
    "\n",
    "# For k-medoids, directly use the medoid as the representative topic\n",
    "for i, cluster in enumerate(clustered_topics):\n",
    "    # The index of the medoid in the original embeddings array\n",
    "    medoid_idx = optimal_kmedoids.medoid_indices_[i]\n",
    "    \n",
    "    # The topic corresponding to the medoid\n",
    "    medoid_topic = topics[medoid_idx]\n",
    "    \n",
    "    # Add the representative topic (medoid) and the full list of topics to the dictionary\n",
    "    clusters_dict[f\"{medoid_topic}\"] = {\n",
    "        \"topics\": cluster\n",
    "    }\n",
    "\n",
    "# Save to a JSON file\n",
    "with open('./data/cleaning/data_cleaning_motivations_new_clusters_kmedoids.json', 'w') as json_file:\n",
    "    json.dump(clusters_dict, json_file, indent=4)\n",
    "\n",
    "print(\"Clusters have been saved to clusters.json\")\n"
   ]
  },
  {
   "cell_type": "markdown",
   "metadata": {},
   "source": [
    "## Visualise clusters\n",
    "\n",
    "Not necessary but to visualise the results continue here\n"
   ]
  },
  {
   "cell_type": "code",
   "execution_count": null,
   "metadata": {},
   "outputs": [],
   "source": [
    "perplexity_value = min(50, len(topics)-1)\n",
    "tsne = TSNE(n_components=2, perplexity=20, learning_rate=500, max_iter=2000, \n",
    "            early_exaggeration=50, init='pca')\n",
    "embeddings_2d = tsne.fit_transform(embeddings)\n",
    "\n",
    "plt.figure(figsize=(10, 10))\n",
    "scatter = plt.scatter(embeddings_2d[:, 0], embeddings_2d[:, 1], c=best_labels, cmap='tab20', alpha=0.6)\n",
    "\n",
    "for i, cluster in enumerate(clustered_topics):\n",
    "    centroid_2d = np.mean(embeddings_2d[best_labels == i], axis=0)\n",
    "    plt.text(centroid_2d[0], centroid_2d[1], str(i+1), color='black', fontsize=9, ha='center', va='center')\n",
    "\n",
    "plt.title('Cluster Visualization in 2D Space')\n",
    "plt.colorbar(scatter)\n",
    "plt.grid(True)\n",
    "plt.show()"
   ]
  },
  {
   "cell_type": "markdown",
   "metadata": {},
   "source": [
    "### We now update the list.json with the clusters\n"
   ]
  },
  {
   "cell_type": "code",
   "execution_count": null,
   "metadata": {},
   "outputs": [],
   "source": [
    "with open('./data/step1/list.json', 'r') as f:\n",
    "    list = json.load(f)\n",
    "\n",
    "with open('data_cleaning_motivations_clusters.json', 'r') as f:\n",
    "    clusters = json.load(f)\n",
    "\n",
    "with tqdm(total=len(list[\"data\"]), desc=\"Overall Progress\") as main_pbar:\n",
    "    for item in list[\"data\"]:\n",
    "        if \"step_1\" not in item or item['step_1'] is None:\n",
    "            main_pbar.update(1)\n",
    "            continue\n",
    "        motivations = item['step_1']['motivations'] if 'motivations' in item['step_1'] else []\n",
    "        if (len(motivations) == 0):\n",
    "            main_pbar.update(1)\n",
    "            continue        \n",
    "        new_motivations = []\n",
    "        for motivation in motivations:\n",
    "            for cluster, values in clusters.items():\n",
    "                if motivation == cluster:\n",
    "                    if cluster not in new_motivations:\n",
    "                        new_motivations.append(cluster)\n",
    "                elif motivation in values['topics']:\n",
    "                    if cluster not in new_motivations:\n",
    "                        new_motivations.append(cluster)\n",
    "        item['step_1']['motivations'] = new_motivations\n",
    "        item['metadata']['step_1']['updated_motivations']['clustered'] = new_motivations\n",
    "        main_pbar.update(1)\n",
    "\n",
    "with open('./data/step1/list.json', 'w') as f:\n",
    "    json.dump(list, f)"
   ]
  },
  {
   "cell_type": "markdown",
   "metadata": {},
   "source": [
    "### Lets test to see if new clusters have been applied\n"
   ]
  },
  {
   "cell_type": "code",
   "execution_count": null,
   "metadata": {},
   "outputs": [],
   "source": [
    "import json\n",
    "\n",
    "# Load the JSON file\n",
    "with open('./data/step1/list.json', 'r') as file:\n",
    "    data = json.load(file)\n",
    "\n",
    "# Initialize an empty list\n",
    "topics_all = []\n",
    "\n",
    "for item in data[\"data\"]:\n",
    "    if \"step_1\" not in item or item['step_1'] is None:\n",
    "        continue\n",
    "    motivations = item['step_1']['motivations'] if 'motivations' in item['step_1'] else []\n",
    "    for motivation in motivations:\n",
    "        if motivation not in topics_all:\n",
    "            topics_all.append(motivation)\n",
    "\n",
    "print(f\"Total unique motivations: {len(topics_all)}\")"
   ]
  },
  {
   "cell_type": "markdown",
   "metadata": {},
   "source": [
    "### Update the DB with changes\n"
   ]
  },
  {
   "cell_type": "code",
   "execution_count": null,
   "metadata": {},
   "outputs": [],
   "source": [
    "from db.docs import DocumentManager\n",
    "from db.db_instance import DBClient\n",
    "from models.models import FilterItem\n",
    "import json\n",
    "from tqdm.notebook import tqdm\n",
    "client = DBClient()\n",
    "db = DocumentManager()\n",
    "\n",
    "# Data to process\n",
    "with open('./data/step1/list.json', 'r') as f:\n",
    "    list = json.load(f)\n",
    "\n",
    "for item in tqdm(list[\"data\"]):\n",
    "    if \"step_1\" not in item or item['step_1'] is None:\n",
    "        continue\n",
    "    motivations = item[\"metadata\"]['step_1']['updated_motivations'][\"lower_case\"] if 'updated_motivations' in item[\"metadata\"]['step_1'] else []\n",
    "    filter_item = FilterItem(property = 'uniqueId', value= item[\"uniqueId\"], condition='equal')    \n",
    "    document_id = db.search_docs_filtered([filter_item])    \n",
    "    db.update_single_property(document_id[0][\"uuid\"], 'motivations', motivations)"
   ]
  }
 ],
 "metadata": {
  "kernelspec": {
   "display_name": ".venv",
   "language": "python",
   "name": "python3"
  },
  "language_info": {
   "codemirror_mode": {
    "name": "ipython",
    "version": 3
   },
   "file_extension": ".py",
   "mimetype": "text/x-python",
   "name": "python",
   "nbconvert_exporter": "python",
   "pygments_lexer": "ipython3",
   "version": "3.12.3"
  }
 },
 "nbformat": 4,
 "nbformat_minor": 2
}
